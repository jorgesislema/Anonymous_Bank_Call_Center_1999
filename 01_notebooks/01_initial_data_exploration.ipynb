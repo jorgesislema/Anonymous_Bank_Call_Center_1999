{
 "cells": [
  {
   "cell_type": "markdown",
   "id": "0bf06d51",
   "metadata": {},
   "source": [
    "#  Análisis Exploratorio Inicial - Call Center 1999\n",
    "\n",
    "##  Anonymous Bank - Análisis de Datos de Call Center\n",
    "\n",
    "### Descripción del Proyecto\n",
    "\n",
    "Este notebook realiza la exploración inicial del dataset del Call Center del \"Anonymous Bank\" correspondiente al año 1999. El análisis incluye:\n",
    "\n",
    "- **Carga y estructura de datos**: Comprensión del formato y dimensiones\n",
    "- **Análisis descriptivo**: Estadísticas básicas y distribuciones\n",
    "- **Calidad de datos**: Identificación de valores faltantes y outliers\n",
    "- **Análisis temporal**: Patrones por fecha, hora y día de la semana\n",
    "- **Análisis operacional**: Tiempos de servicio, colas y eficiencia\n",
    "- **Visualizaciones iniciales**: Gráficos exploratorios para entender los datos\n",
    "\n",
    "### Objetivos\n",
    "\n",
    "1. **Comprender la estructura** del dataset y sus variables\n",
    "2. **Identificar patrones temporales** en las llamadas\n",
    "3. **Analizar la eficiencia operacional** del call center\n",
    "4. **Detectar anomalías** y problemas de calidad de datos\n",
    "5. **Generar insights iniciales** para análisis posteriores\n",
    "\n",
    "---"
   ]
  },
  {
   "cell_type": "markdown",
   "id": "6dc554c0",
   "metadata": {},
   "source": [
    "## 1. Impotamos las librerías necesarias\n",
    "\n",
    "Importamos todas las librerías necesarias para el análisis exploratorio de datos."
   ]
  },
  {
   "cell_type": "code",
   "execution_count": 2,
   "id": "99c68099",
   "metadata": {},
   "outputs": [
    {
     "name": "stdout",
     "output_type": "stream",
     "text": [
      "Librerías importadas correctamente\n",
      "Pandas version: 2.2.3\n",
      "NumPy version: 2.2.6\n",
      "Matplotlib backend: module://matplotlib_inline.backend_inline\n"
     ]
    }
   ],
   "source": [
    "# Librerías para manipulación de datos\n",
    "import pandas as pd\n",
    "import numpy as np\n",
    "from datetime import datetime, timedelta\n",
    "\n",
    "\n",
    "# Librerías para visualización\n",
    "import matplotlib.pyplot as plt\n",
    "import seaborn as sns\n",
    "import plotly.express as px\n",
    "import plotly.graph_objects as go\n",
    "from plotly.subplots import make_subplots\n",
    "\n",
    "# Configuración de estilo\n",
    "plt.style.use('seaborn-v0_8')\n",
    "sns.set_palette(\"husl\")\n",
    "pd.set_option('display.max_columns', None)\n",
    "pd.set_option('display.max_rows', 100)\n",
    "\n",
    "# Configuración de Plotly\n",
    "import plotly.io as pio\n",
    "pio.templates.default = \"plotly_white\"\n",
    "\n",
    "print(\"Librerías importadas correctamente\")\n",
    "print(f\"Pandas version: {pd.__version__}\")\n",
    "print(f\"NumPy version: {np.__version__}\")\n",
    "print(f\"Matplotlib backend: {plt.get_backend()}\")"
   ]
  },
  {
   "cell_type": "markdown",
   "id": "4f45d273",
   "metadata": {},
   "source": [
    "---\n",
    "\n",
    "## 2.Carga y Estructura de Datos\n",
    "\n",
    "### Carga del Dataset"
   ]
  },
  {
   "cell_type": "code",
   "execution_count": null,
   "id": "9ffac4ed",
   "metadata": {},
   "outputs": [
    {
     "name": "stdout",
     "output_type": "stream",
     "text": [
      "Archivo encontrado: ../00_data/raw/Call_Center_1999_DataSet.csv\n",
      "Tamaño del archivo: 56.99 MB\n",
      "\n",
      "Cargando datos...\n",
      "Datos cargados exitosamente en 1.16 segundos\n",
      "Dimensiones del dataset: 444,448 filas x 18 columnas\n"
     ]
    }
   ],
   "source": [
    "# Definimos la ruta del archivo CSV de datos en bruto\n",
    "data_path = \"../00_data/raw/Call_Center_1999_DataSet.csv\"\n",
    "\n",
    "# Verificamos si el archivo existe y obtenemos su tamaño\n",
    "\n",
    "import os\n",
    "if os.path.exists(data_path):\n",
    "    print(f\"Archivo encontrado: {data_path}\")\n",
    "    file_size = os.path.getsize(data_path) / (1024 * 1024)  # MB\n",
    "    print(f\"Tamaño del archivo: {file_size:.2f} MB\")\n",
    "else:\n",
    "    print(f\"Archivo no encontrado: {data_path}\")\n",
    "    \n",
    "# Cargamos el dataset y medimos el tiempo de carga\n",
    "print(\"\\nCargando datos...\")\n",
    "start_time = datetime.now()\n",
    "\n",
    "try:\n",
    "    # Cargamos el dataset con parámetros específicos\n",
    " \n",
    "    df = pd.read_csv(\n",
    "        data_path, \n",
    "        sep=';',  \n",
    "        encoding='utf-8',  \n",
    "        on_bad_lines='skip',  \n",
    "        quotechar='\"',  \n",
    "        low_memory=False  \n",
    "    )\n",
    "    \n",
    "    load_time = datetime.now() - start_time\n",
    "    print(f\"Datos cargados exitosamente en {load_time.total_seconds():.2f} segundos\")\n",
    "    print(f\"Dimensiones del dataset: {df.shape[0]:,} filas x {df.shape[1]} columnas\")\n",
    "    \n",
    "except Exception as e:\n",
    "    print(f\"Error al cargar los datos: {e}\")\n",
    "    print(\"\\nIntentando con diferentes parámetros...\")\n",
    "    \n",
    "    try:\n",
    "        # Intentamos cargar el dataset con diferentes parámetros\n",
    "        df = pd.read_csv(\n",
    "            data_path,\n",
    "            sep=';',\n",
    "            encoding='latin-1',  \n",
    "            on_bad_lines='skip',\n",
    "            quoting=1  # QUOTE_ALL\n",
    "        )\n",
    "        print(f\"Datos cargados con parámetros alternativos\")\n",
    "        print(f\"Dimensiones del dataset: {df.shape[0]:,} filas x {df.shape[1]} columnas\")\n",
    "        \n",
    "    except Exception as e2:\n",
    "        print(f\" Error persistente: {e2}\")\n",
    "        print(\" Sugerencia: Verificar manualmente el formato del archivo CSV\")"
   ]
  },
  {
   "cell_type": "code",
   "execution_count": 5,
   "id": "72ea418c",
   "metadata": {},
   "outputs": [
    {
     "name": "stdout",
     "output_type": "stream",
     "text": [
      "INFORMACIÓN GENERAL DEL DATASET\n",
      "==================================================\n",
      "Número de filas: 444,448\n",
      "Número de columnas: 18\n",
      "Memoria utilizada: 303.32 MB\n",
      "\n",
      " COLUMNAS DEL DATASET:\n",
      "------------------------------\n",
      " 1. vru.line\n",
      " 2. call_id\n",
      " 3. customer_id\n",
      " 4. priority\n",
      " 5. type\n",
      " 6. date\n",
      " 7. vru_entry\n",
      " 8. vru_exit\n",
      " 9. vru_time\n",
      "10. q_start\n",
      "11. q_exit\n",
      "12. q_time\n",
      "13. outcome\n",
      "14. ser_start\n",
      "15. ser_exit\n",
      "16. ser_time\n",
      "17. server\n",
      "18. startdate\n",
      "\n",
      "PRIMEROS 5 REGISTROS:\n",
      "==================================================\n"
     ]
    },
    {
     "data": {
      "text/html": [
       "<div>\n",
       "<style scoped>\n",
       "    .dataframe tbody tr th:only-of-type {\n",
       "        vertical-align: middle;\n",
       "    }\n",
       "\n",
       "    .dataframe tbody tr th {\n",
       "        vertical-align: top;\n",
       "    }\n",
       "\n",
       "    .dataframe thead th {\n",
       "        text-align: right;\n",
       "    }\n",
       "</style>\n",
       "<table border=\"1\" class=\"dataframe\">\n",
       "  <thead>\n",
       "    <tr style=\"text-align: right;\">\n",
       "      <th></th>\n",
       "      <th>vru.line</th>\n",
       "      <th>call_id</th>\n",
       "      <th>customer_id</th>\n",
       "      <th>priority</th>\n",
       "      <th>type</th>\n",
       "      <th>date</th>\n",
       "      <th>vru_entry</th>\n",
       "      <th>vru_exit</th>\n",
       "      <th>vru_time</th>\n",
       "      <th>q_start</th>\n",
       "      <th>q_exit</th>\n",
       "      <th>q_time</th>\n",
       "      <th>outcome</th>\n",
       "      <th>ser_start</th>\n",
       "      <th>ser_exit</th>\n",
       "      <th>ser_time</th>\n",
       "      <th>server</th>\n",
       "      <th>startdate</th>\n",
       "    </tr>\n",
       "  </thead>\n",
       "  <tbody>\n",
       "    <tr>\n",
       "      <th>0</th>\n",
       "      <td>AA0101</td>\n",
       "      <td>33116</td>\n",
       "      <td>9664491</td>\n",
       "      <td>2</td>\n",
       "      <td>PS</td>\n",
       "      <td>1999-01-01</td>\n",
       "      <td>0:00:31</td>\n",
       "      <td>0:00:36</td>\n",
       "      <td>5</td>\n",
       "      <td>0:00:36</td>\n",
       "      <td>0:03:09</td>\n",
       "      <td>153</td>\n",
       "      <td>HANG</td>\n",
       "      <td>0:00:00</td>\n",
       "      <td>0:00:00</td>\n",
       "      <td>0</td>\n",
       "      <td>NO_SERVER</td>\n",
       "      <td>0</td>\n",
       "    </tr>\n",
       "    <tr>\n",
       "      <th>1</th>\n",
       "      <td>AA0101</td>\n",
       "      <td>33117</td>\n",
       "      <td>0</td>\n",
       "      <td>0</td>\n",
       "      <td>PS</td>\n",
       "      <td>1999-01-01</td>\n",
       "      <td>0:34:12</td>\n",
       "      <td>0:34:23</td>\n",
       "      <td>11</td>\n",
       "      <td>0:00:00</td>\n",
       "      <td>0:00:00</td>\n",
       "      <td>0</td>\n",
       "      <td>HANG</td>\n",
       "      <td>0:00:00</td>\n",
       "      <td>0:00:00</td>\n",
       "      <td>0</td>\n",
       "      <td>NO_SERVER</td>\n",
       "      <td>0</td>\n",
       "    </tr>\n",
       "    <tr>\n",
       "      <th>2</th>\n",
       "      <td>AA0101</td>\n",
       "      <td>33118</td>\n",
       "      <td>27997683</td>\n",
       "      <td>2</td>\n",
       "      <td>PS</td>\n",
       "      <td>1999-01-01</td>\n",
       "      <td>6:55:20</td>\n",
       "      <td>6:55:26</td>\n",
       "      <td>6</td>\n",
       "      <td>6:55:26</td>\n",
       "      <td>6:55:43</td>\n",
       "      <td>17</td>\n",
       "      <td>AGENT</td>\n",
       "      <td>6:55:43</td>\n",
       "      <td>6:56:37</td>\n",
       "      <td>54</td>\n",
       "      <td>MICHAL</td>\n",
       "      <td>0</td>\n",
       "    </tr>\n",
       "    <tr>\n",
       "      <th>3</th>\n",
       "      <td>AA0101</td>\n",
       "      <td>33119</td>\n",
       "      <td>0</td>\n",
       "      <td>0</td>\n",
       "      <td>PS</td>\n",
       "      <td>1999-01-01</td>\n",
       "      <td>7:41:16</td>\n",
       "      <td>7:41:26</td>\n",
       "      <td>10</td>\n",
       "      <td>0:00:00</td>\n",
       "      <td>0:00:00</td>\n",
       "      <td>0</td>\n",
       "      <td>AGENT</td>\n",
       "      <td>7:41:25</td>\n",
       "      <td>7:44:53</td>\n",
       "      <td>208</td>\n",
       "      <td>BASCH</td>\n",
       "      <td>0</td>\n",
       "    </tr>\n",
       "    <tr>\n",
       "      <th>4</th>\n",
       "      <td>AA0101</td>\n",
       "      <td>33120</td>\n",
       "      <td>0</td>\n",
       "      <td>0</td>\n",
       "      <td>PS</td>\n",
       "      <td>1999-01-01</td>\n",
       "      <td>8:03:14</td>\n",
       "      <td>8:03:24</td>\n",
       "      <td>10</td>\n",
       "      <td>0:00:00</td>\n",
       "      <td>0:00:00</td>\n",
       "      <td>0</td>\n",
       "      <td>AGENT</td>\n",
       "      <td>8:03:23</td>\n",
       "      <td>8:05:10</td>\n",
       "      <td>107</td>\n",
       "      <td>MICHAL</td>\n",
       "      <td>0</td>\n",
       "    </tr>\n",
       "  </tbody>\n",
       "</table>\n",
       "</div>"
      ],
      "text/plain": [
       "  vru.line  call_id customer_id  priority type        date vru_entry vru_exit  \\\n",
       "0   AA0101    33116     9664491         2   PS  1999-01-01   0:00:31  0:00:36   \n",
       "1   AA0101    33117           0         0   PS  1999-01-01   0:34:12  0:34:23   \n",
       "2   AA0101    33118    27997683         2   PS  1999-01-01   6:55:20  6:55:26   \n",
       "3   AA0101    33119           0         0   PS  1999-01-01   7:41:16  7:41:26   \n",
       "4   AA0101    33120           0         0   PS  1999-01-01   8:03:14  8:03:24   \n",
       "\n",
       "   vru_time  q_start   q_exit  q_time outcome ser_start ser_exit  ser_time  \\\n",
       "0         5  0:00:36  0:03:09     153    HANG   0:00:00  0:00:00         0   \n",
       "1        11  0:00:00  0:00:00       0    HANG   0:00:00  0:00:00         0   \n",
       "2         6  6:55:26  6:55:43      17   AGENT   6:55:43  6:56:37        54   \n",
       "3        10  0:00:00  0:00:00       0   AGENT   7:41:25  7:44:53       208   \n",
       "4        10  0:00:00  0:00:00       0   AGENT   8:03:23  8:05:10       107   \n",
       "\n",
       "      server  startdate  \n",
       "0  NO_SERVER          0  \n",
       "1  NO_SERVER          0  \n",
       "2     MICHAL          0  \n",
       "3      BASCH          0  \n",
       "4     MICHAL          0  "
      ]
     },
     "metadata": {},
     "output_type": "display_data"
    }
   ],
   "source": [
    "# Inspección inicial de la estructura\n",
    "print(\"INFORMACIÓN GENERAL DEL DATASET\")\n",
    "print(\"=\" * 50)\n",
    "print(f\"Número de filas: {df.shape[0]:,}\")\n",
    "print(f\"Número de columnas: {df.shape[1]}\")\n",
    "print(f\"Memoria utilizada: {df.memory_usage(deep=True).sum() / 1024**2:.2f} MB\")\n",
    "\n",
    "print(\"\\n COLUMNAS DEL DATASET:\")\n",
    "print(\"-\" * 30)\n",
    "for i, col in enumerate(df.columns, 1):\n",
    "    print(f\"{i:2d}. {col}\")\n",
    "\n",
    "# Primeros registros\n",
    "print(\"\\nPRIMEROS 5 REGISTROS:\")\n",
    "print(\"=\" * 50)\n",
    "display(df.head())"
   ]
  },
  {
   "cell_type": "code",
   "execution_count": 6,
   "id": "0d6808c5",
   "metadata": {},
   "outputs": [
    {
     "name": "stdout",
     "output_type": "stream",
     "text": [
      "TIPOS DE DATOS Y INFORMACIÓN DETALLADA\n",
      "==================================================\n",
      "\n",
      "Información del DataFrame:\n",
      "<class 'pandas.core.frame.DataFrame'>\n",
      "RangeIndex: 444448 entries, 0 to 444447\n",
      "Data columns (total 18 columns):\n",
      " #   Column       Non-Null Count   Dtype \n",
      "---  ------       --------------   ----- \n",
      " 0   vru.line     444448 non-null  object\n",
      " 1   call_id      444448 non-null  int64 \n",
      " 2   customer_id  444448 non-null  object\n",
      " 3   priority     444448 non-null  int64 \n",
      " 4   type         444448 non-null  object\n",
      " 5   date         444448 non-null  object\n",
      " 6   vru_entry    444448 non-null  object\n",
      " 7   vru_exit     444448 non-null  object\n",
      " 8   vru_time     444448 non-null  int64 \n",
      " 9   q_start      444448 non-null  object\n",
      " 10  q_exit       444448 non-null  object\n",
      " 11  q_time       444448 non-null  int64 \n",
      " 12  outcome      444448 non-null  object\n",
      " 13  ser_start    444448 non-null  object\n",
      " 14  ser_exit     444448 non-null  object\n",
      " 15  ser_time     444448 non-null  int64 \n",
      " 16  server       444448 non-null  object\n",
      " 17  startdate    444448 non-null  int64 \n",
      "dtypes: int64(6), object(12)\n",
      "memory usage: 303.3 MB\n",
      "\n",
      " ANÁLISIS DE TIPOS DE DATOS:\n",
      "----------------------------------------\n",
      "\n",
      "Distribución de tipos de datos:\n",
      "  object: 12 columnas\n",
      "  int64: 6 columnas\n",
      "\n",
      "Columnas numéricas: 6\n",
      " Columnas categóricas: 12\n",
      " Columnas de fecha/hora: 0\n",
      "\n",
      "Columnas numéricas: ['call_id', 'priority', 'vru_time', 'q_time', 'ser_time', 'startdate']\n",
      "\n",
      "Columnas categóricas: ['vru.line', 'customer_id', 'type', 'date', 'vru_entry', 'vru_exit', 'q_start', 'q_exit', 'outcome', 'ser_start', 'ser_exit', 'server']\n"
     ]
    }
   ],
   "source": [
    "# Análisamos los tipos de datos y la información detallada\n",
    "print(\"TIPOS DE DATOS Y INFORMACIÓN DETALLADA\")\n",
    "print(\"=\" * 50)\n",
    "\n",
    "# Información básica\n",
    "print(\"\\nInformación del DataFrame:\")\n",
    "df.info(memory_usage='deep')\n",
    "\n",
    "# Descripción de tipos de datos\n",
    "print(\"\\n ANÁLISIS DE TIPOS DE DATOS:\")\n",
    "print(\"-\" * 40)\n",
    "\n",
    "data_types_summary = df.dtypes.value_counts()\n",
    "print(\"\\nDistribución de tipos de datos:\")\n",
    "for dtype, count in data_types_summary.items():\n",
    "    print(f\"  {dtype}: {count} columnas\")\n",
    "\n",
    "# Identificar columnas categóricas vs numéricas\n",
    "numeric_cols = df.select_dtypes(include=[np.number]).columns.tolist()\n",
    "categorical_cols = df.select_dtypes(include=['object']).columns.tolist()\n",
    "datetime_cols = df.select_dtypes(include=['datetime64']).columns.tolist()\n",
    "\n",
    "print(f\"\\nColumnas numéricas: {len(numeric_cols)}\")\n",
    "print(f\" Columnas categóricas: {len(categorical_cols)}\")\n",
    "print(f\" Columnas de fecha/hora: {len(datetime_cols)}\")\n",
    "\n",
    "if numeric_cols:\n",
    "    print(f\"\\nColumnas numéricas: {numeric_cols}\")\n",
    "if categorical_cols:\n",
    "    print(f\"\\nColumnas categóricas: {categorical_cols}\")\n",
    "if datetime_cols:\n",
    "    print(f\"\\nColumnas fecha/hora: {datetime_cols}\")"
   ]
  },
  {
   "cell_type": "markdown",
   "id": "670c32b4",
   "metadata": {},
   "source": [
    "---\n",
    "\n",
    "## 3. Análisis Descriptivo Básico\n",
    "\n",
    "### Estadísticas Descriptivas"
   ]
  },
  {
   "cell_type": "code",
   "execution_count": null,
   "id": "34a0dbb9",
   "metadata": {},
   "outputs": [
    {
     "name": "stdout",
     "output_type": "stream",
     "text": [
      "ESTADÍSTICAS DESCRIPTIVAS - VARIABLES NUMÉRICAS\n",
      "============================================================\n"
     ]
    },
    {
     "data": {
      "text/html": [
       "<div>\n",
       "<style scoped>\n",
       "    .dataframe tbody tr th:only-of-type {\n",
       "        vertical-align: middle;\n",
       "    }\n",
       "\n",
       "    .dataframe tbody tr th {\n",
       "        vertical-align: top;\n",
       "    }\n",
       "\n",
       "    .dataframe thead th {\n",
       "        text-align: right;\n",
       "    }\n",
       "</style>\n",
       "<table border=\"1\" class=\"dataframe\">\n",
       "  <thead>\n",
       "    <tr style=\"text-align: right;\">\n",
       "      <th></th>\n",
       "      <th>call_id</th>\n",
       "      <th>priority</th>\n",
       "      <th>vru_time</th>\n",
       "      <th>q_time</th>\n",
       "      <th>ser_time</th>\n",
       "      <th>startdate</th>\n",
       "    </tr>\n",
       "  </thead>\n",
       "  <tbody>\n",
       "    <tr>\n",
       "      <th>count</th>\n",
       "      <td>444448.000000</td>\n",
       "      <td>444448.000000</td>\n",
       "      <td>444448.000000</td>\n",
       "      <td>444448.000000</td>\n",
       "      <td>444448.000000</td>\n",
       "      <td>444448.000000</td>\n",
       "    </tr>\n",
       "    <tr>\n",
       "      <th>mean</th>\n",
       "      <td>31928.737202</td>\n",
       "      <td>0.780143</td>\n",
       "      <td>10.286081</td>\n",
       "      <td>59.004304</td>\n",
       "      <td>152.561776</td>\n",
       "      <td>172.333974</td>\n",
       "    </tr>\n",
       "    <tr>\n",
       "      <th>std</th>\n",
       "      <td>13945.516813</td>\n",
       "      <td>0.888851</td>\n",
       "      <td>34.942136</td>\n",
       "      <td>119.470328</td>\n",
       "      <td>282.372761</td>\n",
       "      <td>104.559247</td>\n",
       "    </tr>\n",
       "    <tr>\n",
       "      <th>min</th>\n",
       "      <td>1169.000000</td>\n",
       "      <td>0.000000</td>\n",
       "      <td>-362.000000</td>\n",
       "      <td>0.000000</td>\n",
       "      <td>0.000000</td>\n",
       "      <td>0.000000</td>\n",
       "    </tr>\n",
       "    <tr>\n",
       "      <th>25%</th>\n",
       "      <td>21449.000000</td>\n",
       "      <td>0.000000</td>\n",
       "      <td>6.000000</td>\n",
       "      <td>0.000000</td>\n",
       "      <td>12.000000</td>\n",
       "      <td>90.000000</td>\n",
       "    </tr>\n",
       "    <tr>\n",
       "      <th>50%</th>\n",
       "      <td>35256.000000</td>\n",
       "      <td>0.000000</td>\n",
       "      <td>8.000000</td>\n",
       "      <td>16.000000</td>\n",
       "      <td>84.000000</td>\n",
       "      <td>181.000000</td>\n",
       "    </tr>\n",
       "    <tr>\n",
       "      <th>75%</th>\n",
       "      <td>42803.000000</td>\n",
       "      <td>2.000000</td>\n",
       "      <td>10.000000</td>\n",
       "      <td>79.000000</td>\n",
       "      <td>185.000000</td>\n",
       "      <td>273.000000</td>\n",
       "    </tr>\n",
       "    <tr>\n",
       "      <th>max</th>\n",
       "      <td>55656.000000</td>\n",
       "      <td>2.000000</td>\n",
       "      <td>4832.000000</td>\n",
       "      <td>28693.000000</td>\n",
       "      <td>61437.000000</td>\n",
       "      <td>334.000000</td>\n",
       "    </tr>\n",
       "  </tbody>\n",
       "</table>\n",
       "</div>"
      ],
      "text/plain": [
       "             call_id       priority       vru_time         q_time  \\\n",
       "count  444448.000000  444448.000000  444448.000000  444448.000000   \n",
       "mean    31928.737202       0.780143      10.286081      59.004304   \n",
       "std     13945.516813       0.888851      34.942136     119.470328   \n",
       "min      1169.000000       0.000000    -362.000000       0.000000   \n",
       "25%     21449.000000       0.000000       6.000000       0.000000   \n",
       "50%     35256.000000       0.000000       8.000000      16.000000   \n",
       "75%     42803.000000       2.000000      10.000000      79.000000   \n",
       "max     55656.000000       2.000000    4832.000000   28693.000000   \n",
       "\n",
       "            ser_time      startdate  \n",
       "count  444448.000000  444448.000000  \n",
       "mean      152.561776     172.333974  \n",
       "std       282.372761     104.559247  \n",
       "min         0.000000       0.000000  \n",
       "25%        12.000000      90.000000  \n",
       "50%        84.000000     181.000000  \n",
       "75%       185.000000     273.000000  \n",
       "max     61437.000000     334.000000  "
      ]
     },
     "metadata": {},
     "output_type": "display_data"
    },
    {
     "name": "stdout",
     "output_type": "stream",
     "text": [
      "\n",
      "ANÁLISIS DE DISTRIBUCIONES:\n",
      "----------------------------------------\n",
      "\n",
      "call_id:\n",
      "  Mínimo: 1169\n",
      "  Máximo: 55656\n",
      "  Media: 31928.74\n",
      "  Mediana: 35256.00\n",
      "  Desv. Estándar: 13945.52\n",
      "  Outliers detectados: 0 (0.00%)\n",
      "\n",
      "priority:\n",
      "  Mínimo: 0\n",
      "  Máximo: 2\n",
      "  Media: 0.78\n",
      "  Mediana: 0.00\n",
      "  Desv. Estándar: 0.89\n",
      "  Outliers detectados: 0 (0.00%)\n",
      "\n",
      "vru_time:\n",
      "  Mínimo: -362\n",
      "  Máximo: 4832\n",
      "  Media: 10.29\n",
      "  Mediana: 8.00\n",
      "  Desv. Estándar: 34.94\n",
      "  Outliers detectados: 26683 (6.00%)\n",
      "\n",
      "q_time:\n",
      "  Mínimo: 0\n",
      "  Máximo: 28693\n",
      "  Media: 59.00\n",
      "  Mediana: 16.00\n",
      "  Desv. Estándar: 119.47\n",
      "  Outliers detectados: 37237 (8.38%)\n",
      "\n",
      "ser_time:\n",
      "  Mínimo: 0\n",
      "  Máximo: 61437\n",
      "  Media: 152.56\n",
      "  Mediana: 84.00\n",
      "  Desv. Estándar: 282.37\n",
      "  Outliers detectados: 32381 (7.29%)\n",
      "\n",
      "startdate:\n",
      "  Mínimo: 0\n",
      "  Máximo: 334\n",
      "  Media: 172.33\n",
      "  Mediana: 181.00\n",
      "  Desv. Estándar: 104.56\n",
      "  Outliers detectados: 0 (0.00%)\n"
     ]
    }
   ],
   "source": [
    "# Estadísticas descriptivas para variables numéricas\n",
    "if numeric_cols:\n",
    "    print(\"ESTADÍSTICAS DESCRIPTIVAS - VARIABLES NUMÉRICAS\")\n",
    "    print(\"=\" * 60)\n",
    "    \n",
    "    desc_stats = df[numeric_cols].describe()\n",
    "    display(desc_stats)\n",
    "    \n",
    "    # Análisis adicional de distribuciones\n",
    "    print(\"\\nANÁLISIS DE DISTRIBUCIONES:\")\n",
    "    print(\"-\" * 40)\n",
    "    \n",
    "    for col in numeric_cols:\n",
    "        if df[col].dtype in ['int64', 'float64']:\n",
    "            print(f\"\\n{col}:\")\n",
    "            print(f\"  Mínimo: {df[col].min()}\")\n",
    "            print(f\"  Máximo: {df[col].max()}\")\n",
    "            print(f\"  Media: {df[col].mean():.2f}\")\n",
    "            print(f\"  Mediana: {df[col].median():.2f}\")\n",
    "            print(f\"  Desv. Estándar: {df[col].std():.2f}\")\n",
    "            \n",
    "            # Detectar outliers usando IQR\n",
    "            Q1 = df[col].quantile(0.25)\n",
    "            Q3 = df[col].quantile(0.75)\n",
    "            IQR = Q3 - Q1\n",
    "            lower_bound = Q1 - 1.5 * IQR\n",
    "            upper_bound = Q3 + 1.5 * IQR\n",
    "            outliers = df[(df[col] < lower_bound) | (df[col] > upper_bound)][col]\n",
    "            print(f\"  Outliers detectados: {len(outliers)} ({len(outliers)/len(df)*100:.2f}%)\")\n",
    "else:\n",
    "    print(\" No se encontraron columnas numéricas en el dataset\")"
   ]
  },
  {
   "cell_type": "code",
   "execution_count": 9,
   "id": "4064c48c",
   "metadata": {},
   "outputs": [
    {
     "name": "stdout",
     "output_type": "stream",
     "text": [
      "\n",
      " ESTADÍSTICAS DESCRIPTIVAS - VARIABLES CATEGÓRICAS\n",
      "============================================================\n",
      "\n",
      " VRU.LINE:\n",
      "--------------------\n",
      "Valores únicos: 30\n",
      "\n",
      "Top 10 valores más frecuentes:\n",
      "   1. AA0209: 21,423 (4.82%)\n",
      "   2. AA0202: 21,314 (4.80%)\n",
      "   3. AA0206: 21,087 (4.74%)\n",
      "   4. AA0213: 20,552 (4.62%)\n",
      "   5. AA0205: 20,247 (4.56%)\n",
      "   6. AA0203: 20,056 (4.51%)\n",
      "   7. AA0214: 19,897 (4.48%)\n",
      "   8. AA0210: 19,157 (4.31%)\n",
      "   9. AA0204: 19,011 (4.28%)\n",
      "  10. AA0215: 18,697 (4.21%)\n",
      "\n",
      " CUSTOMER_ID:\n",
      "--------------------\n",
      "Valores únicos: 12910\n",
      "\n",
      "Top 10 valores más frecuentes:\n",
      "   1. 0: 234,552 (52.77%)\n",
      "   2. 58859752: 1,996 (0.45%)\n",
      "   3. 58704610: 1,731 (0.39%)\n",
      "   4. 7191646: 1,502 (0.34%)\n",
      "   5. 54128681: 1,483 (0.33%)\n",
      "   6. 52867744: 1,474 (0.33%)\n",
      "   7. 58029430: 1,352 (0.30%)\n",
      "   8. 74780917: 1,255 (0.28%)\n",
      "   9. 55279970: 1,166 (0.26%)\n",
      "  10. 57918849: 1,119 (0.25%)\n",
      "\n",
      " TYPE:\n",
      "--------------------\n",
      "Valores únicos: 8\n",
      "\n",
      "Top 10 valores más frecuentes:\n",
      "   1. PS: 302,522 (68.07%)\n",
      "   2. NW: 67,728 (15.24%)\n",
      "   3. NE: 39,342 (8.85%)\n",
      "   4. IN: 20,732 (4.66%)\n",
      "   5. TT: 12,289 (2.77%)\n",
      "   6. PE: 1,824 (0.41%)\n",
      "   7.  TT: 6 (0.00%)\n",
      "   8. AA: 5 (0.00%)\n",
      "\n",
      " DATE:\n",
      "--------------------\n",
      "Valores únicos: 363\n",
      "\n",
      "Top 10 valores más frecuentes:\n",
      "   1. 1999-05-23: 3,064 (0.69%)\n",
      "   2. 1999-07-04: 2,589 (0.58%)\n",
      "   3. 1999-08-01: 2,375 (0.53%)\n",
      "   4. 1999-08-02: 2,363 (0.53%)\n",
      "   5. 1999-08-03: 2,345 (0.53%)\n",
      "   6. 1999-03-11: 2,254 (0.51%)\n",
      "   7. 1999-11-02: 2,225 (0.50%)\n",
      "   8. 1999-12-12: 2,203 (0.50%)\n",
      "   9. 1999-12-30: 2,201 (0.50%)\n",
      "  10. 1999-08-10: 2,155 (0.48%)\n",
      "\n",
      " VRU_ENTRY:\n",
      "--------------------\n",
      "Valores únicos: 74168\n",
      "\n",
      "Top 10 valores más frecuentes:\n",
      "   1. 10:19:26: 24 (0.01%)\n",
      "   2. 10:24:50: 24 (0.01%)\n",
      "   3. 15:25:50: 24 (0.01%)\n",
      "   4. 10:06:22: 22 (0.00%)\n",
      "   5. 10:51:44: 22 (0.00%)\n",
      "   6. 10:42:11: 22 (0.00%)\n",
      "   7. 13:17:28: 22 (0.00%)\n",
      "   8. 10:06:27: 22 (0.00%)\n",
      "   9. 11:30:24: 21 (0.00%)\n",
      "  10. 10:47:35: 21 (0.00%)\n",
      "\n",
      " VRU_EXIT:\n",
      "--------------------\n",
      "Valores únicos: 74097\n",
      "\n",
      "Top 10 valores más frecuentes:\n",
      "   1. 10:54:38: 24 (0.01%)\n",
      "   2. 10:06:27: 24 (0.01%)\n",
      "   3. 10:05:11: 23 (0.01%)\n",
      "   4. 10:19:37: 23 (0.01%)\n",
      "   5. 10:28:33: 23 (0.01%)\n",
      "   6. 10:10:36: 23 (0.01%)\n",
      "   7. 10:12:32: 22 (0.00%)\n",
      "   8. 16:42:07: 22 (0.00%)\n",
      "   9. 15:22:56: 22 (0.00%)\n",
      "  10. 10:21:07: 22 (0.00%)\n",
      "\n",
      " Q_START:\n",
      "--------------------\n",
      "Valores únicos: 62831\n",
      "\n",
      "Top 10 valores más frecuentes:\n",
      "   1. 0:00:00: 112,589 (25.33%)\n",
      "   2. 00:00:00: 68,248 (15.36%)\n",
      "   3. 15:22:56: 21 (0.00%)\n",
      "   4. 10:39:30: 21 (0.00%)\n",
      "   5. 10:19:32: 21 (0.00%)\n",
      "   6. 10:54:38: 20 (0.00%)\n",
      "   7. 15:31:59: 19 (0.00%)\n",
      "   8. 10:28:33: 19 (0.00%)\n",
      "   9. 10:24:56: 18 (0.00%)\n",
      "  10. 10:32:01: 18 (0.00%)\n",
      "\n",
      " Q_EXIT:\n",
      "--------------------\n",
      "Valores únicos: 62893\n",
      "\n",
      "Top 10 valores más frecuentes:\n",
      "   1. 0:00:00: 112,588 (25.33%)\n",
      "   2. 00:00:00: 68,248 (15.36%)\n",
      "   3. 10:08:16: 20 (0.00%)\n",
      "   4. 10:28:23: 20 (0.00%)\n",
      "   5. 16:46:59: 19 (0.00%)\n",
      "   6. 15:42:51: 19 (0.00%)\n",
      "   7. 11:28:06: 19 (0.00%)\n",
      "   8. 10:11:38: 19 (0.00%)\n",
      "   9. 10:14:58: 19 (0.00%)\n",
      "  10. 10:13:31: 19 (0.00%)\n",
      "\n",
      " OUTCOME:\n",
      "--------------------\n",
      "Valores únicos: 3\n",
      "\n",
      "Top 10 valores más frecuentes:\n",
      "   1. AGENT: 353,143 (79.46%)\n",
      "   2. HANG: 87,706 (19.73%)\n",
      "   3. PHANTOM: 3,599 (0.81%)\n",
      "\n",
      " SER_START:\n",
      "--------------------\n",
      "Valores únicos: 69375\n",
      "\n",
      "Top 10 valores más frecuentes:\n",
      "   1. 0:00:00: 60,145 (13.53%)\n",
      "   2. 00:00:00: 27,005 (6.08%)\n",
      "   3. 13:57:51: 22 (0.00%)\n",
      "   4. 10:17:00: 20 (0.00%)\n",
      "   5. 10:39:03: 20 (0.00%)\n",
      "   6. 13:49:20: 20 (0.00%)\n",
      "   7. 10:28:19: 19 (0.00%)\n",
      "   8. 10:27:31: 19 (0.00%)\n",
      "   9. 11:32:52: 19 (0.00%)\n",
      "  10. 10:18:00: 19 (0.00%)\n",
      "\n",
      " SER_EXIT:\n",
      "--------------------\n",
      "Valores únicos: 69211\n",
      "\n",
      "Top 10 valores más frecuentes:\n",
      "   1. 0:00:00: 60,145 (13.53%)\n",
      "   2. 00:00:00: 27,000 (6.07%)\n",
      "   3. 12:23:00: 24 (0.01%)\n",
      "   4. 10:22:42: 21 (0.00%)\n",
      "   5. 12:31:54: 21 (0.00%)\n",
      "   6. 10:13:27: 21 (0.00%)\n",
      "   7. 10:04:06: 21 (0.00%)\n",
      "   8. 10:58:59: 20 (0.00%)\n",
      "   9. 10:46:03: 19 (0.00%)\n",
      "  10. 10:35:37: 19 (0.00%)\n",
      "\n",
      " SERVER:\n",
      "--------------------\n",
      "Valores únicos: 53\n",
      "\n",
      "Top 10 valores más frecuentes:\n",
      "   1. NO_SERVER: 96,511 (21.71%)\n",
      "   2. SHARON: 27,492 (6.19%)\n",
      "   3. STEREN: 20,500 (4.61%)\n",
      "   4. AVNI: 20,111 (4.52%)\n",
      "   5. MORIAH: 19,736 (4.44%)\n",
      "   6. AVI: 19,455 (4.38%)\n",
      "   7. KAZAV: 18,694 (4.21%)\n",
      "   8. YITZ: 17,231 (3.88%)\n",
      "   9. TOVA: 17,072 (3.84%)\n",
      "  10. BASCH: 15,581 (3.51%)\n"
     ]
    }
   ],
   "source": [
    "# Análisis de variables categóricas\n",
    "if categorical_cols:\n",
    "    print(\"\\n ESTADÍSTICAS DESCRIPTIVAS - VARIABLES CATEGÓRICAS\")\n",
    "    print(\"=\" * 60)\n",
    "    \n",
    "    for col in categorical_cols:\n",
    "        print(f\"\\n {col.upper()}:\")\n",
    "        print(\"-\" * 20)\n",
    "        \n",
    "        # Valores únicos\n",
    "        unique_values = df[col].nunique()\n",
    "        print(f\"Valores únicos: {unique_values}\")\n",
    "        \n",
    "        # Distribución de frecuencias\n",
    "        value_counts = df[col].value_counts()\n",
    "        print(f\"\\nTop 10 valores más frecuentes:\")\n",
    "        for i, (value, count) in enumerate(value_counts.head(10).items(), 1):\n",
    "            percentage = (count / len(df)) * 100\n",
    "            print(f\"  {i:2d}. {value}: {count:,} ({percentage:.2f}%)\")\n",
    "        \n",
    "        # Verificar si hay valores nulos representados como strings\n",
    "        null_like_values = ['null', 'NULL', 'nan', 'NaN', 'none', 'None', '', ' ']\n",
    "        null_like_count = df[col].isin(null_like_values).sum()\n",
    "        if null_like_count > 0:\n",
    "            print(f\" Valores nulos implícitos: {null_like_count}\")\n",
    "else:\n",
    "    print(\" No se encontraron columnas categóricas en el dataset\")"
   ]
  },
  {
   "cell_type": "markdown",
   "id": "31d9f198",
   "metadata": {},
   "source": [
    "---\n",
    "\n",
    "## 4. Análisis de Calidad de Datos\n",
    "\n",
    "### Valores Faltantes y Nulos"
   ]
  },
  {
   "cell_type": "code",
   "execution_count": 10,
   "id": "c3d9f215",
   "metadata": {},
   "outputs": [
    {
     "name": "stdout",
     "output_type": "stream",
     "text": [
      " ANÁLISIS DE VALORES FALTANTES\n",
      "========================================\n",
      " ¡Excelente! No hay valores faltantes en el dataset\n",
      "\n",
      " PATRONES DE VALORES FALTANTES:\n",
      "----------------------------------------\n",
      "Total de celdas: 8,000,064\n",
      "Total de valores faltantes: 0\n",
      "Porcentaje total de valores faltantes: 0.0000%\n",
      "Filas completamente llenas: 444,448 (100.00%)\n"
     ]
    }
   ],
   "source": [
    "# Análisamos de valores nulos\n",
    "print(\" ANÁLISIS DE VALORES FALTANTES\")\n",
    "print(\"=\" * 40)\n",
    "\n",
    "# Contar valores faltantes por columna\n",
    "missing_data = df.isnull().sum()\n",
    "missing_percentage = (missing_data / len(df)) * 100\n",
    "\n",
    "# Creamos un DataFrame para resumir los valores faltantes\n",
    "missing_summary = pd.DataFrame({\n",
    "    'Columna': missing_data.index,\n",
    "    'Valores_Faltantes': missing_data.values,\n",
    "    'Porcentaje': missing_percentage.values\n",
    "}).sort_values('Valores_Faltantes', ascending=False)\n",
    "\n",
    "# Mostramos las columnas con valores faltantes\n",
    "missing_summary_filtered = missing_summary[missing_summary['Valores_Faltantes'] > 0]\n",
    "\n",
    "if len(missing_summary_filtered) > 0:\n",
    "    print(\"\\n COLUMNAS CON VALORES FALTANTES:\")\n",
    "    print(\"-\" * 50)\n",
    "    display(missing_summary_filtered)\n",
    "    \n",
    "    print(f\"\\n RESUMEN:\")\n",
    "    print(f\"Total de columnas con valores faltantes: {len(missing_summary_filtered)}\")\n",
    "    print(f\"Columna con más valores faltantes: {missing_summary_filtered.iloc[0]['Columna']} ({missing_summary_filtered.iloc[0]['Porcentaje']:.2f}%)\")\n",
    "else:\n",
    "    print(\" ¡Excelente! No hay valores faltantes en el dataset\")\n",
    "\n",
    "# Análisis de patrones de valores faltantes\n",
    "print(\"\\n PATRONES DE VALORES FALTANTES:\")\n",
    "print(\"-\" * 40)\n",
    "\n",
    "total_missing = df.isnull().sum().sum()\n",
    "total_cells = df.shape[0] * df.shape[1]\n",
    "missing_percentage_total = (total_missing / total_cells) * 100\n",
    "\n",
    "print(f\"Total de celdas: {total_cells:,}\")\n",
    "print(f\"Total de valores faltantes: {total_missing:,}\")\n",
    "print(f\"Porcentaje total de valores faltantes: {missing_percentage_total:.4f}%\")\n",
    "\n",
    "# Filas completamente llenas\n",
    "complete_rows = df.dropna().shape[0]\n",
    "print(f\"Filas completamente llenas: {complete_rows:,} ({complete_rows/len(df)*100:.2f}%)\")"
   ]
  },
  {
   "cell_type": "code",
   "execution_count": 11,
   "id": "2b58724a",
   "metadata": {},
   "outputs": [
    {
     "name": "stdout",
     "output_type": "stream",
     "text": [
      " No hay valores faltantes para visualizar\n"
     ]
    }
   ],
   "source": [
    "# Visualización de valores faltantes\n",
    "if missing_summary_filtered.shape[0] > 0:\n",
    "    # Crear visualización con plotly\n",
    "    fig = px.bar(\n",
    "        missing_summary_filtered.head(10), \n",
    "        x='Columna', \n",
    "        y='Porcentaje',\n",
    "        title='Top 10 Columnas con Valores Faltantes',\n",
    "        labels={'Porcentaje': 'Porcentaje de Valores Faltantes (%)', 'Columna': 'Columnas'},\n",
    "        color='Porcentaje',\n",
    "        color_continuous_scale='Reds'\n",
    "    )\n",
    "    \n",
    "    fig.update_layout(\n",
    "        height=500,\n",
    "        xaxis_tickangle=-45,\n",
    "        showlegend=False\n",
    "    )\n",
    "    \n",
    "    fig.show()\n",
    "    \n",
    "    # Heatmap de valores faltantes (si hay columnas con missing values)\n",
    "    if len(missing_summary_filtered) <= 20:  # Solo para datasets manejables\n",
    "        plt.figure(figsize=(12, 8))\n",
    "        \n",
    "        # Seleccionar solo columnas con valores faltantes para el heatmap\n",
    "        cols_with_missing = missing_summary_filtered['Columna'].tolist()\n",
    "        \n",
    "        if len(cols_with_missing) > 0:\n",
    "            # Crear matriz de valores faltantes\n",
    "            missing_matrix = df[cols_with_missing].isnull()\n",
    "            \n",
    "            sns.heatmap(\n",
    "                missing_matrix.head(1000),  # Mostrar solo primeras 1000 filas\n",
    "                cbar=True,\n",
    "                cmap='viridis',\n",
    "                yticklabels=False\n",
    "            )\n",
    "            \n",
    "            plt.title('Patrón de Valores Faltantes (Primeras 1000 filas)')\n",
    "            plt.xlabel('Columnas')\n",
    "            plt.ylabel('Filas')\n",
    "            plt.xticks(rotation=45)\n",
    "            plt.tight_layout()\n",
    "            plt.show()\n",
    "else:\n",
    "    print(\" No hay valores faltantes para visualizar\")"
   ]
  },
  {
   "cell_type": "markdown",
   "id": "c1ce4634",
   "metadata": {},
   "source": [
    "---\n",
    "\n",
    "## 5.Análisis Específico del Call Center\n",
    "\n",
    "### Preparación de Datos de Tiempo\n",
    "\n",
    "Analizaremos los campos específicos del call center como tiempos de VRU, cola y servicio."
   ]
  },
  {
   "cell_type": "code",
   "execution_count": 12,
   "id": "3ded9179",
   "metadata": {},
   "outputs": [
    {
     "name": "stdout",
     "output_type": "stream",
     "text": [
      "IDENTIFICACIÓN DE CAMPOS DE TIEMPO\n",
      "========================================\n",
      "\n",
      " Columnas relacionadas con tiempo identificadas: 12\n",
      "   1. vru.line\n",
      "   2. date\n",
      "   3. vru_entry\n",
      "   4. vru_exit\n",
      "   5. vru_time\n",
      "   6. q_start\n",
      "   7. q_exit\n",
      "   8. q_time\n",
      "   9. ser_start\n",
      "  10. ser_exit\n",
      "  11. ser_time\n",
      "  12. startdate\n",
      "\n",
      " MUESTRA DE DATOS DE TIEMPO:\n",
      "--------------------------------------------------\n"
     ]
    },
    {
     "data": {
      "text/html": [
       "<div>\n",
       "<style scoped>\n",
       "    .dataframe tbody tr th:only-of-type {\n",
       "        vertical-align: middle;\n",
       "    }\n",
       "\n",
       "    .dataframe tbody tr th {\n",
       "        vertical-align: top;\n",
       "    }\n",
       "\n",
       "    .dataframe thead th {\n",
       "        text-align: right;\n",
       "    }\n",
       "</style>\n",
       "<table border=\"1\" class=\"dataframe\">\n",
       "  <thead>\n",
       "    <tr style=\"text-align: right;\">\n",
       "      <th></th>\n",
       "      <th>vru.line</th>\n",
       "      <th>date</th>\n",
       "      <th>vru_entry</th>\n",
       "      <th>vru_exit</th>\n",
       "      <th>vru_time</th>\n",
       "      <th>q_start</th>\n",
       "      <th>q_exit</th>\n",
       "      <th>q_time</th>\n",
       "      <th>ser_start</th>\n",
       "      <th>ser_exit</th>\n",
       "      <th>ser_time</th>\n",
       "      <th>startdate</th>\n",
       "    </tr>\n",
       "  </thead>\n",
       "  <tbody>\n",
       "    <tr>\n",
       "      <th>0</th>\n",
       "      <td>AA0101</td>\n",
       "      <td>1999-01-01</td>\n",
       "      <td>0:00:31</td>\n",
       "      <td>0:00:36</td>\n",
       "      <td>5</td>\n",
       "      <td>0:00:36</td>\n",
       "      <td>0:03:09</td>\n",
       "      <td>153</td>\n",
       "      <td>0:00:00</td>\n",
       "      <td>0:00:00</td>\n",
       "      <td>0</td>\n",
       "      <td>0</td>\n",
       "    </tr>\n",
       "    <tr>\n",
       "      <th>1</th>\n",
       "      <td>AA0101</td>\n",
       "      <td>1999-01-01</td>\n",
       "      <td>0:34:12</td>\n",
       "      <td>0:34:23</td>\n",
       "      <td>11</td>\n",
       "      <td>0:00:00</td>\n",
       "      <td>0:00:00</td>\n",
       "      <td>0</td>\n",
       "      <td>0:00:00</td>\n",
       "      <td>0:00:00</td>\n",
       "      <td>0</td>\n",
       "      <td>0</td>\n",
       "    </tr>\n",
       "    <tr>\n",
       "      <th>2</th>\n",
       "      <td>AA0101</td>\n",
       "      <td>1999-01-01</td>\n",
       "      <td>6:55:20</td>\n",
       "      <td>6:55:26</td>\n",
       "      <td>6</td>\n",
       "      <td>6:55:26</td>\n",
       "      <td>6:55:43</td>\n",
       "      <td>17</td>\n",
       "      <td>6:55:43</td>\n",
       "      <td>6:56:37</td>\n",
       "      <td>54</td>\n",
       "      <td>0</td>\n",
       "    </tr>\n",
       "    <tr>\n",
       "      <th>3</th>\n",
       "      <td>AA0101</td>\n",
       "      <td>1999-01-01</td>\n",
       "      <td>7:41:16</td>\n",
       "      <td>7:41:26</td>\n",
       "      <td>10</td>\n",
       "      <td>0:00:00</td>\n",
       "      <td>0:00:00</td>\n",
       "      <td>0</td>\n",
       "      <td>7:41:25</td>\n",
       "      <td>7:44:53</td>\n",
       "      <td>208</td>\n",
       "      <td>0</td>\n",
       "    </tr>\n",
       "    <tr>\n",
       "      <th>4</th>\n",
       "      <td>AA0101</td>\n",
       "      <td>1999-01-01</td>\n",
       "      <td>8:03:14</td>\n",
       "      <td>8:03:24</td>\n",
       "      <td>10</td>\n",
       "      <td>0:00:00</td>\n",
       "      <td>0:00:00</td>\n",
       "      <td>0</td>\n",
       "      <td>8:03:23</td>\n",
       "      <td>8:05:10</td>\n",
       "      <td>107</td>\n",
       "      <td>0</td>\n",
       "    </tr>\n",
       "    <tr>\n",
       "      <th>5</th>\n",
       "      <td>AA0101</td>\n",
       "      <td>1999-01-01</td>\n",
       "      <td>8:18:42</td>\n",
       "      <td>8:18:51</td>\n",
       "      <td>9</td>\n",
       "      <td>0:00:00</td>\n",
       "      <td>0:00:00</td>\n",
       "      <td>0</td>\n",
       "      <td>8:18:50</td>\n",
       "      <td>8:23:25</td>\n",
       "      <td>275</td>\n",
       "      <td>0</td>\n",
       "    </tr>\n",
       "    <tr>\n",
       "      <th>6</th>\n",
       "      <td>AA0101</td>\n",
       "      <td>1999-01-01</td>\n",
       "      <td>8:28:33</td>\n",
       "      <td>8:28:43</td>\n",
       "      <td>10</td>\n",
       "      <td>0:00:00</td>\n",
       "      <td>0:00:00</td>\n",
       "      <td>0</td>\n",
       "      <td>8:28:42</td>\n",
       "      <td>8:30:24</td>\n",
       "      <td>102</td>\n",
       "      <td>0</td>\n",
       "    </tr>\n",
       "    <tr>\n",
       "      <th>7</th>\n",
       "      <td>AA0101</td>\n",
       "      <td>1999-01-01</td>\n",
       "      <td>8:42:13</td>\n",
       "      <td>8:42:19</td>\n",
       "      <td>6</td>\n",
       "      <td>8:42:19</td>\n",
       "      <td>8:42:23</td>\n",
       "      <td>4</td>\n",
       "      <td>8:42:23</td>\n",
       "      <td>8:45:30</td>\n",
       "      <td>187</td>\n",
       "      <td>0</td>\n",
       "    </tr>\n",
       "    <tr>\n",
       "      <th>8</th>\n",
       "      <td>AA0101</td>\n",
       "      <td>1999-01-01</td>\n",
       "      <td>8:52:52</td>\n",
       "      <td>8:53:06</td>\n",
       "      <td>14</td>\n",
       "      <td>0:00:00</td>\n",
       "      <td>0:00:00</td>\n",
       "      <td>0</td>\n",
       "      <td>8:53:05</td>\n",
       "      <td>8:54:38</td>\n",
       "      <td>93</td>\n",
       "      <td>0</td>\n",
       "    </tr>\n",
       "    <tr>\n",
       "      <th>9</th>\n",
       "      <td>AA0101</td>\n",
       "      <td>1999-01-01</td>\n",
       "      <td>9:04:04</td>\n",
       "      <td>9:04:10</td>\n",
       "      <td>6</td>\n",
       "      <td>9:04:10</td>\n",
       "      <td>9:04:56</td>\n",
       "      <td>46</td>\n",
       "      <td>9:04:54</td>\n",
       "      <td>9:06:37</td>\n",
       "      <td>103</td>\n",
       "      <td>0</td>\n",
       "    </tr>\n",
       "  </tbody>\n",
       "</table>\n",
       "</div>"
      ],
      "text/plain": [
       "  vru.line        date vru_entry vru_exit  vru_time  q_start   q_exit  q_time  \\\n",
       "0   AA0101  1999-01-01   0:00:31  0:00:36         5  0:00:36  0:03:09     153   \n",
       "1   AA0101  1999-01-01   0:34:12  0:34:23        11  0:00:00  0:00:00       0   \n",
       "2   AA0101  1999-01-01   6:55:20  6:55:26         6  6:55:26  6:55:43      17   \n",
       "3   AA0101  1999-01-01   7:41:16  7:41:26        10  0:00:00  0:00:00       0   \n",
       "4   AA0101  1999-01-01   8:03:14  8:03:24        10  0:00:00  0:00:00       0   \n",
       "5   AA0101  1999-01-01   8:18:42  8:18:51         9  0:00:00  0:00:00       0   \n",
       "6   AA0101  1999-01-01   8:28:33  8:28:43        10  0:00:00  0:00:00       0   \n",
       "7   AA0101  1999-01-01   8:42:13  8:42:19         6  8:42:19  8:42:23       4   \n",
       "8   AA0101  1999-01-01   8:52:52  8:53:06        14  0:00:00  0:00:00       0   \n",
       "9   AA0101  1999-01-01   9:04:04  9:04:10         6  9:04:10  9:04:56      46   \n",
       "\n",
       "  ser_start ser_exit  ser_time  startdate  \n",
       "0   0:00:00  0:00:00         0          0  \n",
       "1   0:00:00  0:00:00         0          0  \n",
       "2   6:55:43  6:56:37        54          0  \n",
       "3   7:41:25  7:44:53       208          0  \n",
       "4   8:03:23  8:05:10       107          0  \n",
       "5   8:18:50  8:23:25       275          0  \n",
       "6   8:28:42  8:30:24       102          0  \n",
       "7   8:42:23  8:45:30       187          0  \n",
       "8   8:53:05  8:54:38        93          0  \n",
       "9   9:04:54  9:06:37       103          0  "
      ]
     },
     "metadata": {},
     "output_type": "display_data"
    },
    {
     "name": "stdout",
     "output_type": "stream",
     "text": [
      "\n",
      " ANÁLISIS DE FORMATO:\n",
      "------------------------------\n",
      "\n",
      "vru.line:\n",
      "  Tipo de dato: object\n",
      "  Valores únicos: 30\n",
      "  Valores no nulos: 444,448\n",
      "  Ejemplos: ['AA0101', 'AA0101', 'AA0101', 'AA0101', 'AA0101']\n",
      "\n",
      "date:\n",
      "  Tipo de dato: object\n",
      "  Valores únicos: 363\n",
      "  Valores no nulos: 444,448\n",
      "  Ejemplos: ['1999-01-01', '1999-01-01', '1999-01-01', '1999-01-01', '1999-01-01']\n",
      "\n",
      "vru_entry:\n",
      "  Tipo de dato: object\n",
      "  Valores únicos: 74,168\n",
      "  Valores no nulos: 444,448\n",
      "  Ejemplos: ['0:00:31', '0:34:12', '6:55:20', '7:41:16', '8:03:14']\n",
      "\n",
      "vru_exit:\n",
      "  Tipo de dato: object\n",
      "  Valores únicos: 74,097\n",
      "  Valores no nulos: 444,448\n",
      "  Ejemplos: ['0:00:36', '0:34:23', '6:55:26', '7:41:26', '8:03:24']\n",
      "\n",
      "vru_time:\n",
      "  Tipo de dato: int64\n",
      "  Valores únicos: 865\n",
      "  Valores no nulos: 444,448\n",
      "  Ejemplos: [5, 11, 6, 10, 10]\n",
      "\n",
      "q_start:\n",
      "  Tipo de dato: object\n",
      "  Valores únicos: 62,831\n",
      "  Valores no nulos: 444,448\n",
      "  Ejemplos: ['0:00:36', '0:00:00', '6:55:26', '0:00:00', '0:00:00']\n",
      "\n",
      "q_exit:\n",
      "  Tipo de dato: object\n",
      "  Valores únicos: 62,893\n",
      "  Valores no nulos: 444,448\n",
      "  Ejemplos: ['0:03:09', '0:00:00', '6:55:43', '0:00:00', '0:00:00']\n",
      "\n",
      "q_time:\n",
      "  Tipo de dato: int64\n",
      "  Valores únicos: 1,043\n",
      "  Valores no nulos: 444,448\n",
      "  Ejemplos: [153, 0, 17, 0, 0]\n",
      "\n",
      "ser_start:\n",
      "  Tipo de dato: object\n",
      "  Valores únicos: 69,375\n",
      "  Valores no nulos: 444,448\n",
      "  Ejemplos: ['0:00:00', '0:00:00', '6:55:43', '7:41:25', '8:03:23']\n",
      "\n",
      "ser_exit:\n",
      "  Tipo de dato: object\n",
      "  Valores únicos: 69,211\n",
      "  Valores no nulos: 444,448\n",
      "  Ejemplos: ['0:00:00', '0:00:00', '6:56:37', '7:44:53', '8:05:10']\n",
      "\n",
      "ser_time:\n",
      "  Tipo de dato: int64\n",
      "  Valores únicos: 2,612\n",
      "  Valores no nulos: 444,448\n",
      "  Ejemplos: [0, 0, 54, 208, 107]\n",
      "\n",
      "startdate:\n",
      "  Tipo de dato: int64\n",
      "  Valores únicos: 12\n",
      "  Valores no nulos: 444,448\n",
      "  Ejemplos: [0, 0, 0, 0, 0]\n"
     ]
    }
   ],
   "source": [
    "# Identificar campos relacionados con tiempo y call center\n",
    "print(\"IDENTIFICACIÓN DE CAMPOS DE TIEMPO\")\n",
    "print(\"=\" * 40)\n",
    "\n",
    "# Buscar columnas que probablemente contengan información de tiempo\n",
    "time_related_cols = []\n",
    "for col in df.columns:\n",
    "    col_lower = col.lower()\n",
    "    if any(keyword in col_lower for keyword in ['time', 'hora', 'fecha', 'date', 'vru', 'queue', 'start', 'exit', 'entry']):\n",
    "        time_related_cols.append(col)\n",
    "\n",
    "print(f\"\\n Columnas relacionadas con tiempo identificadas: {len(time_related_cols)}\")\n",
    "for i, col in enumerate(time_related_cols, 1):\n",
    "    print(f\"  {i:2d}. {col}\")\n",
    "\n",
    "# Mostrar sample de estas columnas\n",
    "if time_related_cols:\n",
    "    print(\"\\n MUESTRA DE DATOS DE TIEMPO:\")\n",
    "    print(\"-\" * 50)\n",
    "    sample_time_data = df[time_related_cols].head(10)\n",
    "    display(sample_time_data)\n",
    "    \n",
    "    # Análisis de formato de tiempo\n",
    "    print(\"\\n ANÁLISIS DE FORMATO:\")\n",
    "    print(\"-\" * 30)\n",
    "    for col in time_related_cols:\n",
    "        print(f\"\\n{col}:\")\n",
    "        print(f\"  Tipo de dato: {df[col].dtype}\")\n",
    "        print(f\"  Valores únicos: {df[col].nunique():,}\")\n",
    "        print(f\"  Valores no nulos: {df[col].notna().sum():,}\")\n",
    "        \n",
    "        # Mostrar algunos ejemplos de valores\n",
    "        non_null_values = df[col].dropna().head(5).tolist()\n",
    "        print(f\"  Ejemplos: {non_null_values}\")\n",
    "else:\n",
    "    print(\" No se identificaron columnas de tiempo claras\")"
   ]
  },
  {
   "cell_type": "code",
   "execution_count": 13,
   "id": "cd72b66d",
   "metadata": {},
   "outputs": [
    {
     "name": "stdout",
     "output_type": "stream",
     "text": [
      "\n",
      " ANÁLISIS DE CAMPOS ESPECÍFICOS DEL CALL CENTER\n",
      "=======================================================\n",
      "\n",
      " CAMPOS DE CALL CENTER ENCONTRADOS:\n",
      "----------------------------------------\n",
      "\n",
      " OUTCOME (Resultado de la llamada):\n",
      "   Tipo: object\n",
      "   Valores únicos: 3\n",
      "   Valores no nulos: 444,448\n",
      "   Top 5 valores:\n",
      "     AGENT: 353,143 (79.46%)\n",
      "     HANG: 87,706 (19.73%)\n",
      "     PHANTOM: 3,599 (0.81%)\n",
      "\n",
      " TYPE (Tipo de servicio):\n",
      "   Tipo: object\n",
      "   Valores únicos: 8\n",
      "   Valores no nulos: 444,448\n",
      "   Top 5 valores:\n",
      "     PS: 302,522 (68.07%)\n",
      "     NW: 67,728 (15.24%)\n",
      "     NE: 39,342 (8.85%)\n",
      "     IN: 20,732 (4.66%)\n",
      "     TT: 12,289 (2.77%)\n",
      "\n",
      " PRIORITY (Prioridad del cliente):\n",
      "   Tipo: int64\n",
      "   Valores únicos: 3\n",
      "   Valores no nulos: 444,448\n",
      "   Top 5 valores:\n",
      "     0: 235,168 (52.91%)\n",
      "     2: 137,453 (30.93%)\n",
      "     1: 71,827 (16.16%)\n",
      "\n",
      " SERVER (Agente que atendió):\n",
      "   Tipo: object\n",
      "   Valores únicos: 53\n",
      "   Valores no nulos: 444,448\n",
      "   Top 5 valores:\n",
      "     NO_SERVER: 96,511 (21.71%)\n",
      "     SHARON: 27,492 (6.19%)\n",
      "     STEREN: 20,500 (4.61%)\n",
      "     AVNI: 20,111 (4.52%)\n",
      "     MORIAH: 19,736 (4.44%)\n",
      "\n",
      " CUSTOMER_ID (ID del cliente):\n",
      "   Tipo: object\n",
      "   Valores únicos: 12,910\n",
      "   Valores no nulos: 444,448\n",
      "   Top 5 valores:\n",
      "     0: 234,552 (52.77%)\n",
      "     58859752: 1,996 (0.45%)\n",
      "     58704610: 1,731 (0.39%)\n",
      "     7191646: 1,502 (0.34%)\n",
      "     54128681: 1,483 (0.33%)\n",
      "\n",
      " CALL_ID (ID de la llamada):\n",
      "   Tipo: int64\n",
      "   Valores únicos: 54,471\n",
      "   Valores no nulos: 444,448\n",
      "   Min: 1169, Max: 55656\n",
      "   Media: 31928.74, Mediana: 35256.00\n"
     ]
    }
   ],
   "source": [
    "# Análisamos los tipos de datos y la información detallada\n",
    "print(\"\\n ANÁLISIS DE CAMPOS ESPECÍFICOS DEL CALL CENTER\")\n",
    "print(\"=\" * 55)\n",
    "\n",
    "# Buscamos los campos específicos del Call Center\n",
    "call_center_fields = {\n",
    "    'outcome': 'Resultado de la llamada',\n",
    "    'type': 'Tipo de servicio',\n",
    "    'priority': 'Prioridad del cliente',\n",
    "    'server': 'Agente que atendió',\n",
    "    'customer_id': 'ID del cliente',\n",
    "    'call_id': 'ID de la llamada'\n",
    "}\n",
    "\n",
    "# Verifica,os si los campos existen en el DataFrame\n",
    "existing_fields = {}\n",
    "for field, description in call_center_fields.items():\n",
    "    matching_cols = [col for col in df.columns if field.lower() in col.lower()]\n",
    "    if matching_cols:\n",
    "        existing_fields[matching_cols[0]] = description\n",
    "\n",
    "if existing_fields:\n",
    "    print(\"\\n CAMPOS DE CALL CENTER ENCONTRADOS:\")\n",
    "    print(\"-\" * 40)\n",
    "    \n",
    "    for field, description in existing_fields.items():\n",
    "        print(f\"\\n {field.upper()} ({description}):\")\n",
    "        print(f\"   Tipo: {df[field].dtype}\")\n",
    "        print(f\"   Valores únicos: {df[field].nunique():,}\")\n",
    "        print(f\"   Valores no nulos: {df[field].notna().sum():,}\")\n",
    "        \n",
    "        # Para campos categóricos, mostrar distribución\n",
    "        if df[field].dtype == 'object' or df[field].nunique() < 50:\n",
    "            value_counts = df[field].value_counts().head(5)\n",
    "            print(f\"   Top 5 valores:\")\n",
    "            for value, count in value_counts.items():\n",
    "                percentage = (count / len(df)) * 100\n",
    "                print(f\"     {value}: {count:,} ({percentage:.2f}%)\")\n",
    "        else:\n",
    "            # Para campos numéricos, mostrar estadísticas básicas\n",
    "            print(f\"   Min: {df[field].min()}, Max: {df[field].max()}\")\n",
    "            print(f\"   Media: {df[field].mean():.2f}, Mediana: {df[field].median():.2f}\")\n",
    "else:\n",
    "    print(\" No se encontraron campos típicos de call center con nombres estándar\")\n",
    "    print(\" Revisaremos todas las columnas para identificar patrones...\")\n",
    "    \n",
    "    # Mostrar todas las columnas para análisis manual\n",
    "    print(\"\\n TODAS LAS COLUMNAS DISPONIBLES:\")\n",
    "    for i, col in enumerate(df.columns, 1):\n",
    "        print(f\"  {i:2d}. {col} ({df[col].dtype}, {df[col].nunique()} únicos)\")"
   ]
  },
  {
   "cell_type": "markdown",
   "id": "4f60ac78",
   "metadata": {},
   "source": [
    "---\n",
    "\n",
    "## 6. Análisis Temporal\n",
    "\n",
    "### Patrones de Llamadas por Tiempo\n",
    "\n",
    "Analizaremos los patrones temporales de las llamadas del call center."
   ]
  },
  {
   "cell_type": "code",
   "execution_count": 16,
   "id": "0e8c237d",
   "metadata": {},
   "outputs": [
    {
     "name": "stdout",
     "output_type": "stream",
     "text": [
      " PROCESAMIENTO DE CAMPOS TEMPORALES\n",
      "=============================================\n",
      " Campo de fecha detectado: date (formato: %Y-%m-%d)\n",
      "\n",
      " RESUMEN:\n",
      "Campos de fecha detectados: 1\n",
      "Campos de tiempo detectados: 0\n",
      "\n",
      " Campos de fecha:\n",
      "  - date (formato: %Y-%m-%d)\n"
     ]
    }
   ],
   "source": [
    "# Procesamiento de campos de fecha y hora\n",
    "print(\" PROCESAMIENTO DE CAMPOS TEMPORALES\")\n",
    "print(\"=\" * 45)\n",
    "\n",
    "# Buscamos las columnas que parecen contener fechas\n",
    "date_cols = []\n",
    "for col in df.columns:\n",
    "    # Verificamos si la columna contiene fechas\n",
    "    if df[col].dtype == 'object':\n",
    "        # Tomamos una muestra para el análisis\n",
    "        sample_values = df[col].dropna().head(100)\n",
    "        \n",
    "       \n",
    "        try:\n",
    "            # Verificar diferentes formatos comunes\n",
    "            date_formats = ['%Y%m%d', '%Y-%m-%d', '%d/%m/%Y', '%m/%d/%Y', '%d-%m-%Y']\n",
    "            \n",
    "            for date_format in date_formats:\n",
    "                try:\n",
    "                    parsed_dates = pd.to_datetime(sample_values, format=date_format, errors='coerce')\n",
    "                    if parsed_dates.notna().sum() > len(sample_values) * 0.8:  # 80% de éxito\n",
    "                        date_cols.append((col, date_format))\n",
    "                        print(f\" Campo de fecha detectado: {col} (formato: {date_format})\")\n",
    "                        break\n",
    "                except:\n",
    "                    continue\n",
    "        except:\n",
    "            pass\n",
    "\n",
    "# Buscamos las columnas que parecen contener tiempos\n",
    "time_cols = []\n",
    "for col in df.columns:\n",
    "    if df[col].dtype == 'object':\n",
    "        sample_values = df[col].dropna().head(100)\n",
    "        \n",
    "        # Verificamos patrones comunes de tiempo\n",
    "        # Ejemplos: 'HH:MM:SS', 'HH:MM', 'HHMMSS'\n",
    "        time_patterns = [r'^\\d{6}$', r'^\\d{2}:\\d{2}:\\d{2}$', r'^\\d{1,2}:\\d{2}$']\n",
    "        \n",
    "        for pattern in time_patterns:\n",
    "            import re\n",
    "            matches = sample_values.astype(str).str.match(pattern).sum()\n",
    "            if matches > len(sample_values) * 0.8:\n",
    "                time_cols.append(col)\n",
    "                print(f\" Campo de tiempo detectado: {col}\")\n",
    "                break\n",
    "\n",
    "print(f\"\\n RESUMEN:\")\n",
    "print(f\"Campos de fecha detectados: {len(date_cols)}\")\n",
    "print(f\"Campos de tiempo detectados: {len(time_cols)}\")\n",
    "\n",
    "if date_cols:\n",
    "    print(\"\\n Campos de fecha:\")\n",
    "    for col, format_str in date_cols:\n",
    "        print(f\"  - {col} (formato: {format_str})\")\n",
    "        \n",
    "if time_cols:\n",
    "    print(\"\\n Campos de tiempo:\")\n",
    "    for col in time_cols:\n",
    "        print(f\"  - {col}\")"
   ]
  },
  {
   "cell_type": "code",
   "execution_count": null,
   "id": "641da2d1",
   "metadata": {},
   "outputs": [
    {
     "name": "stdout",
     "output_type": "stream",
     "text": [
      "\n",
      " CONVERSIÓN DE CAMPOS TEMPORALES\n",
      "========================================\n",
      " date → date_parsed\n",
      "Conversiones exitosas: 444,448/444,448 (100.0%)\n",
      "   Rango: 1999-01-01 a 1999-12-31\n",
      "   Duración: 364 días\n",
      "\n",
      " ANÁLISIS TEMPORAL BÁSICO\n",
      "===================================\n",
      "Analizando columna: date_parsed\n",
      "\n",
      " Distribución por mes:\n",
      "   1 (Jan): 31,599 llamadas (7.1%)\n",
      "   2 (Feb): 33,344 llamadas (7.5%)\n",
      "   3 (Mar): 38,801 llamadas (8.7%)\n",
      "   4 (Apr): 32,036 llamadas (7.2%)\n",
      "   5 (May): 39,553 llamadas (8.9%)\n",
      "   6 (Jun): 37,935 llamadas (8.5%)\n",
      "   7 (Jul): 39,022 llamadas (8.8%)\n",
      "   8 (Aug): 42,078 llamadas (9.5%)\n",
      "   9 (Sep): 31,371 llamadas (7.1%)\n",
      "  10 (Oct): 34,625 llamadas (7.8%)\n",
      "  11 (Nov): 41,019 llamadas (9.2%)\n",
      "  12 (Dec): 43,065 llamadas (9.7%)\n",
      "\n",
      " Distribución por día de la semana:\n",
      "  Monday: 79,497 llamadas (17.9%)\n",
      "  Tuesday: 81,193 llamadas (18.3%)\n",
      "  Wednesday: 77,836 llamadas (17.5%)\n",
      "  Thursday: 79,727 llamadas (17.9%)\n",
      "  Friday: 28,548 llamadas (6.4%)\n",
      "  Saturday: 10,736 llamadas (2.4%)\n",
      "  Sunday: 86,911 llamadas (19.6%)\n"
     ]
    }
   ],
   "source": [
    "# Convertimos los campos de fecha y hora\n",
    "if date_cols:\n",
    "    print(\"\\n CONVERSIÓN DE CAMPOS TEMPORALES\")\n",
    "    print(\"=\" * 40)\n",
    "    \n",
    "    # Convertimos cada columna de fecha detectada en formato datetime\n",
    "    for col, date_format in date_cols:\n",
    "        try:\n",
    "            # Creamos una nueva columna con el formato datetime coregido\n",
    "            new_col_name = f\"{col}_parsed\"\n",
    "            df[new_col_name] = pd.to_datetime(df[col], format=date_format, errors='coerce')\n",
    "            \n",
    "            # Verificamos el éxito de la conversión\n",
    "            conversion_success = df[new_col_name].notna().sum()\n",
    "            total_non_null = df[col].notna().sum()\n",
    "            success_rate = (conversion_success / total_non_null) * 100 if total_non_null > 0 else 0\n",
    "            \n",
    "            print(f\" {col} → {new_col_name}\")\n",
    "            print(f\"Conversiones exitosas: {conversion_success:,}/{total_non_null:,} ({success_rate:.1f}%)\")\n",
    "            \n",
    "            if conversion_success > 0:\n",
    "              \n",
    "                df[f\"{col}_year\"] = df[new_col_name].dt.year\n",
    "                df[f\"{col}_month\"] = df[new_col_name].dt.month\n",
    "                df[f\"{col}_day\"] = df[new_col_name].dt.day\n",
    "                df[f\"{col}_weekday\"] = df[new_col_name].dt.day_name()\n",
    "                df[f\"{col}_quarter\"] = df[new_col_name].dt.quarter\n",
    "                \n",
    "                \n",
    "                min_date = df[new_col_name].min()\n",
    "                max_date = df[new_col_name].max()\n",
    "                print(f\"   Rango: {min_date.strftime('%Y-%m-%d')} a {max_date.strftime('%Y-%m-%d')}\")\n",
    "                \n",
    "                # Calculamos la duración total\n",
    "                duration = max_date - min_date\n",
    "                print(f\"   Duración: {duration.days} días\")\n",
    "                \n",
    "        except Exception as e:\n",
    "            print(f\" Error convirtiendo {col}: {e}\")\n",
    "\n",
    "# Análisis temporal básico\n",
    "if date_cols and len([col for col, _ in date_cols if f\"{col}_parsed\" in df.columns]) > 0:\n",
    "    print(\"\\n ANÁLISIS TEMPORAL BÁSICO\")\n",
    "    print(\"=\" * 35)\n",
    "    \n",
    "    # Usamos la primera columna de fecha válida para el análisis\n",
    "    date_col = None\n",
    "    for col, _ in date_cols:\n",
    "        if f\"{col}_parsed\" in df.columns and df[f\"{col}_parsed\"].notna().sum() > 0:\n",
    "            date_col = f\"{col}_parsed\"\n",
    "            break\n",
    "    \n",
    "    if date_col:\n",
    "        print(f\"Analizando columna: {date_col}\")\n",
    "        \n",
    "        # Distribución por mes\n",
    "        monthly_dist = df[date_col].dt.month.value_counts().sort_index()\n",
    "        print(f\"\\n Distribución por mes:\")\n",
    "        for month, count in monthly_dist.items():\n",
    "            month_name = pd.to_datetime(f\"2023-{month:02d}-01\").strftime('%B')\n",
    "            percentage = (count / len(df)) * 100\n",
    "            print(f\"  {month:2d} ({month_name[:3]}): {count:,} llamadas ({percentage:.1f}%)\")\n",
    "        \n",
    "        # Distribución por día de la semana\n",
    "        weekday_dist = df[f\"{date_col.replace('_parsed', '')}_weekday\"].value_counts()\n",
    "        print(f\"\\n Distribución por día de la semana:\")\n",
    "        weekday_order = ['Monday', 'Tuesday', 'Wednesday', 'Thursday', 'Friday', 'Saturday', 'Sunday']\n",
    "        for day in weekday_order:\n",
    "            if day in weekday_dist.index:\n",
    "                count = weekday_dist[day]\n",
    "                percentage = (count / len(df)) * 100\n",
    "                print(f\"  {day}: {count:,} llamadas ({percentage:.1f}%)\")\n",
    "else:\n",
    "    print(\"\\n No se pudieron procesar campos de fecha para análisis temporal\")"
   ]
  },
  {
   "cell_type": "markdown",
   "id": "8f5f9f69",
   "metadata": {},
   "source": [
    "---\n",
    "\n",
    "## 7. Visualizaciones Exploratorias\n",
    "\n",
    "### Gráficos Iniciales para Comprensión de Datos"
   ]
  },
  {
   "cell_type": "code",
   "execution_count": null,
   "id": "9c766def",
   "metadata": {},
   "outputs": [
    {
     "name": "stdout",
     "output_type": "stream",
     "text": [
      " CREANDO VISUALIZACIONES EXPLORATORIAS\n",
      "=============================================\n",
      "\n",
      " Distribuciones de Variables Numéricas\n"
     ]
    },
    {
     "data": {
      "image/png": "[encoded data removed]",
      "text/plain": [
       "<Figure size 1500x1000 with 6 Axes>"
      ]
     },
     "metadata": {},
     "output_type": "display_data"
    },
    {
     "name": "stdout",
     "output_type": "stream",
     "text": [
      "\n",
      " Distribuciones de Variables Categóricas\n"
     ]
    },
    {
     "data": {
      "image/png": "[encoded data removed]",
      "text/plain": [
       "<Figure size 1200x600 with 1 Axes>"
      ]
     },
     "metadata": {},
     "output_type": "display_data"
    },
    {
     "data": {
      "image/png": "[encoded data removed]",
      "text/plain": [
       "<Figure size 1200x600 with 1 Axes>"
      ]
     },
     "metadata": {},
     "output_type": "display_data"
    }
   ],
   "source": [
    "# Visualizaciones de distribuciones básicas\n",
    "print(\" CREANDO VISUALIZACIONES EXPLORATORIAS\")\n",
    "print(\"=\" * 45)\n",
    "\n",
    "# 1. Distribución de variables numéricas\n",
    "if numeric_cols:\n",
    "    print(\"\\n Distribuciones de Variables Numéricas\")\n",
    "    \n",
    "    # Calcular número de subplots necesarios\n",
    "    n_numeric = len(numeric_cols)\n",
    "    if n_numeric > 0:\n",
    "        # Creamos subplots para las variables numéricas\n",
    "        n_cols = min(3, n_numeric)\n",
    "        n_rows = (n_numeric + n_cols - 1) // n_cols\n",
    "        \n",
    "        fig, axes = plt.subplots(n_rows, n_cols, figsize=(15, 5*n_rows))\n",
    "        if n_numeric == 1:\n",
    "            axes = [axes]\n",
    "        elif n_rows == 1:\n",
    "            axes = axes if isinstance(axes, np.ndarray) else [axes]\n",
    "        else:\n",
    "            axes = axes.flatten()\n",
    "        \n",
    "        for i, col in enumerate(numeric_cols[:9]):  # Límite de 9 variables\n",
    "            ax = axes[i] if i < len(axes) else None\n",
    "            if ax is not None:\n",
    "                # Histograma con KDE\n",
    "                df[col].hist(bins=50, alpha=0.7, ax=ax)\n",
    "                ax.set_title(f'Distribución de {col}')\n",
    "                ax.set_xlabel(col)\n",
    "                ax.set_ylabel('Frecuencia')\n",
    "                \n",
    "                # Agregar estadísticas básicas como texto\n",
    "                mean_val = df[col].mean()\n",
    "                median_val = df[col].median()\n",
    "                ax.axvline(mean_val, color='red', linestyle='--', alpha=0.7, label=f'Media: {mean_val:.2f}')\n",
    "                ax.axvline(median_val, color='green', linestyle='--', alpha=0.7, label=f'Mediana: {median_val:.2f}')\n",
    "                ax.legend(fontsize=8)\n",
    "        \n",
    "        # Ocultar subplots vacíos\n",
    "        for i in range(n_numeric, len(axes)):\n",
    "            axes[i].set_visible(False)\n",
    "        \n",
    "        plt.tight_layout()\n",
    "        plt.show()\n",
    "\n",
    "# 2. Distribución de variables categóricas principales\n",
    "if categorical_cols:\n",
    "    print(\"\\n Distribuciones de Variables Categóricas\")\n",
    "    \n",
    "    # Seleccionar las variables categóricas más importantes (con menos valores únicos)\n",
    "    cat_analysis = []\n",
    "    for col in categorical_cols:\n",
    "        unique_count = df[col].nunique()\n",
    "        if 2 <= unique_count <= 20:  # Solo variables con 2-20 valores únicos\n",
    "            cat_analysis.append((col, unique_count))\n",
    "    \n",
    "    # Ordenar por número de valores únicos\n",
    "    cat_analysis.sort(key=lambda x: x[1])\n",
    "    \n",
    "    if cat_analysis:\n",
    "        # Mostrar top 6 variables categóricas\n",
    "        for i, (col, unique_count) in enumerate(cat_analysis[:6]):\n",
    "            plt.figure(figsize=(12, 6))\n",
    "            \n",
    "            # Contar valores y calcular porcentajes\n",
    "            value_counts = df[col].value_counts()\n",
    "            \n",
    "            # Crear gráfico de barras\n",
    "            ax = value_counts.plot(kind='bar', color=plt.cm.Set3(np.linspace(0, 1, len(value_counts))))\n",
    "            plt.title(f'Distribución de {col} ({unique_count} valores únicos)', fontsize=14, fontweight='bold')\n",
    "            plt.xlabel(col, fontsize=12)\n",
    "            plt.ylabel('Frecuencia', fontsize=12)\n",
    "            plt.xticks(rotation=45, ha='right')\n",
    "            \n",
    "            # Agregar porcentajes en las barras\n",
    "            total = len(df)\n",
    "            for j, (value, count) in enumerate(value_counts.items()):\n",
    "                percentage = (count / total) * 100\n",
    "                ax.text(j, count + max(value_counts) * 0.01, f'{percentage:.1f}%', \n",
    "                       ha='center', va='bottom', fontsize=10)\n",
    "            \n",
    "            plt.tight_layout()\n",
    "            plt.show()\n",
    "            \n",
    "            if i >= 3:  # Límite de 4 gráficos\n",
    "                remaining = len(cat_analysis) - 4\n",
    "                if remaining > 0:\n",
    "                    print(f\"\\n Hay {remaining} variables categóricas adicionales para analizar posteriormente\")\n",
    "                break\n",
    "    else:\n",
    "        print(\"⚠️ No se encontraron variables categóricas adecuadas para visualización (2-20 valores únicos)\")"
   ]
  },
  {
   "cell_type": "code",
   "execution_count": 20,
   "id": "9092f055",
   "metadata": {},
   "outputs": [
    {
     "name": "stdout",
     "output_type": "stream",
     "text": [
      "\n",
      " VISUALIZACIONES TEMPORALES\n",
      "===================================\n",
      "Creando visualizaciones temporales para: date_parsed\n"
     ]
    },
    {
     "name": "stderr",
     "output_type": "stream",
     "text": [
      "C:\\Users\\jrgsi\\AppData\\Local\\Temp\\ipykernel_11024\\2037599305.py:31: UserWarning: This axis already has a converter set and is updating to a potentially incompatible converter\n",
      "  plt.plot(daily_calls.index, p(range(len(daily_calls))), \"r--\", alpha=0.8, label='Tendencia')\n"
     ]
    },
    {
     "data": {
      "image/png": "[encoded data removed]",
      "text/plain": [
       "<Figure size 1500x600 with 1 Axes>"
      ]
     },
     "metadata": {},
     "output_type": "display_data"
    },
    {
     "data": {
      "application/vnd.plotly.v1+json": {
       "config": {
        "plotlyServerURL": "https://plot.ly"
       },
       "data": [
        {
         "hovertemplate": "Mes=%{x}<br>Número de Llamadas=%{y}<br>color=%{marker.color}<extra></extra>",
         "legendgroup": "",
         "marker": {
          "color": {
           "bdata": "b3sAAECCAACRlwAAJH0AAIGaAAAvlAAAbpgAAF6kAACLegAAQYcAADugAAA5qAAA",
           "dtype": "i4"
          },
          "coloraxis": "coloraxis",
          "pattern": {
           "shape": ""
          }
         },
         "name": "",
         "orientation": "v",
         "showlegend": false,
         "textposition": "auto",
         "type": "bar",
         "x": [
          "January",
          "February",
          "March",
          "April",
          "May",
          "June",
          "July",
          "August",
          "September",
          "October",
          "November",
          "December"
         ],
         "xaxis": "x",
         "y": {
          "bdata": "b3sAAECCAACRlwAAJH0AAIGaAAAvlAAAbpgAAF6kAACLegAAQYcAADugAAA5qAAA",
          "dtype": "i4"
         },
         "yaxis": "y"
        }
       ],
       "layout": {
        "barmode": "relative",
        "coloraxis": {
         "colorbar": {
          "title": {
           "text": "color"
          }
         },
         "colorscale": [
          [
           0,
           "#440154"
          ],
          [
           0.1111111111111111,
           "#482878"
          ],
          [
           0.2222222222222222,
           "#3e4989"
          ],
          [
           0.3333333333333333,
           "#31688e"
          ],
          [
           0.4444444444444444,
           "#26828e"
          ],
          [
           0.5555555555555556,
           "#1f9e89"
          ],
          [
           0.6666666666666666,
           "#35b779"
          ],
          [
           0.7777777777777778,
           "#6ece58"
          ],
          [
           0.8888888888888888,
           "#b5de2b"
          ],
          [
           1,
           "#fde725"
          ]
         ]
        },
        "height": 500,
        "legend": {
         "tracegroupgap": 0
        },
        "showlegend": false,
        "template": {
         "data": {
          "bar": [
           {
            "error_x": {
             "color": "#2a3f5f"
            },
            "error_y": {
             "color": "#2a3f5f"
            },
            "marker": {
             "line": {
              "color": "white",
              "width": 0.5
             },
             "pattern": {
              "fillmode": "overlay",
              "size": 10,
              "solidity": 0.2
             }
            },
            "type": "bar"
           }
          ],
          "barpolar": [
           {
            "marker": {
             "line": {
              "color": "white",
              "width": 0.5
             },
             "pattern": {
              "fillmode": "overlay",
              "size": 10,
              "solidity": 0.2
             }
            },
            "type": "barpolar"
           }
          ],
          "carpet": [
           {
            "aaxis": {
             "endlinecolor": "#2a3f5f",
             "gridcolor": "#C8D4E3",
             "linecolor": "#C8D4E3",
             "minorgridcolor": "#C8D4E3",
             "startlinecolor": "#2a3f5f"
            },
            "baxis": {
             "endlinecolor": "#2a3f5f",
             "gridcolor": "#C8D4E3",
             "linecolor": "#C8D4E3",
             "minorgridcolor": "#C8D4E3",
             "startlinecolor": "#2a3f5f"
            },
            "type": "carpet"
           }
          ],
          "choropleth": [
           {
            "colorbar": {
             "outlinewidth": 0,
             "ticks": ""
            },
            "type": "choropleth"
           }
          ],
          "contour": [
           {
            "colorbar": {
             "outlinewidth": 0,
             "ticks": ""
            },
            "colorscale": [
             [
              0,
              "#0d0887"
             ],
             [
              0.1111111111111111,
              "#46039f"
             ],
             [
              0.2222222222222222,
              "#7201a8"
             ],
             [
              0.3333333333333333,
              "#9c179e"
             ],
             [
              0.4444444444444444,
              "#bd3786"
             ],
             [
              0.5555555555555556,
              "#d8576b"
             ],
             [
              0.6666666666666666,
              "#ed7953"
             ],
             [
              0.7777777777777778,
              "#fb9f3a"
             ],
             [
              0.8888888888888888,
              "#fdca26"
             ],
             [
              1,
              "#f0f921"
             ]
            ],
            "type": "contour"
           }
          ],
          "contourcarpet": [
           {
            "colorbar": {
             "outlinewidth": 0,
             "ticks": ""
            },
            "type": "contourcarpet"
           }
          ],
          "heatmap": [
           {
            "colorbar": {
             "outlinewidth": 0,
             "ticks": ""
            },
            "colorscale": [
             [
              0,
              "#0d0887"
             ],
             [
              0.1111111111111111,
              "#46039f"
             ],
             [
              0.2222222222222222,
              "#7201a8"
             ],
             [
              0.3333333333333333,
              "#9c179e"
             ],
             [
              0.4444444444444444,
              "#bd3786"
             ],
             [
              0.5555555555555556,
              "#d8576b"
             ],
             [
              0.6666666666666666,
              "#ed7953"
             ],
             [
              0.7777777777777778,
              "#fb9f3a"
             ],
             [
              0.8888888888888888,
              "#fdca26"
             ],
             [
              1,
              "#f0f921"
             ]
            ],
            "type": "heatmap"
           }
          ],
          "histogram": [
           {
            "marker": {
             "pattern": {
              "fillmode": "overlay",
              "size": 10,
              "solidity": 0.2
             }
            },
            "type": "histogram"
           }
          ],
          "histogram2d": [
           {
            "colorbar": {
             "outlinewidth": 0,
             "ticks": ""
            },
            "colorscale": [
             [
              0,
              "#0d0887"
             ],
             [
              0.1111111111111111,
              "#46039f"
             ],
             [
              0.2222222222222222,
              "#7201a8"
             ],
             [
              0.3333333333333333,
              "#9c179e"
             ],
             [
              0.4444444444444444,
              "#bd3786"
             ],
             [
              0.5555555555555556,
              "#d8576b"
             ],
             [
              0.6666666666666666,
              "#ed7953"
             ],
             [
              0.7777777777777778,
              "#fb9f3a"
             ],
             [
              0.8888888888888888,
              "#fdca26"
             ],
             [
              1,
              "#f0f921"
             ]
            ],
            "type": "histogram2d"
           }
          ],
          "histogram2dcontour": [
           {
            "colorbar": {
             "outlinewidth": 0,
             "ticks": ""
            },
            "colorscale": [
             [
              0,
              "#0d0887"
             ],
             [
              0.1111111111111111,
              "#46039f"
             ],
             [
              0.2222222222222222,
              "#7201a8"
             ],
             [
              0.3333333333333333,
              "#9c179e"
             ],
             [
              0.4444444444444444,
              "#bd3786"
             ],
             [
              0.5555555555555556,
              "#d8576b"
             ],
             [
              0.6666666666666666,
              "#ed7953"
             ],
             [
              0.7777777777777778,
              "#fb9f3a"
             ],
             [
              0.8888888888888888,
              "#fdca26"
             ],
             [
              1,
              "#f0f921"
             ]
            ],
            "type": "histogram2dcontour"
           }
          ],
          "mesh3d": [
           {
            "colorbar": {
             "outlinewidth": 0,
             "ticks": ""
            },
            "type": "mesh3d"
           }
          ],
          "parcoords": [
           {
            "line": {
             "colorbar": {
              "outlinewidth": 0,
              "ticks": ""
             }
            },
            "type": "parcoords"
           }
          ],
          "pie": [
           {
            "automargin": true,
            "type": "pie"
           }
          ],
          "scatter": [
           {
            "fillpattern": {
             "fillmode": "overlay",
             "size": 10,
             "solidity": 0.2
            },
            "type": "scatter"
           }
          ],
          "scatter3d": [
           {
            "line": {
             "colorbar": {
              "outlinewidth": 0,
              "ticks": ""
             }
            },
            "marker": {
             "colorbar": {
              "outlinewidth": 0,
              "ticks": ""
             }
            },
            "type": "scatter3d"
           }
          ],
          "scattercarpet": [
           {
            "marker": {
             "colorbar": {
              "outlinewidth": 0,
              "ticks": ""
             }
            },
            "type": "scattercarpet"
           }
          ],
          "scattergeo": [
           {
            "marker": {
             "colorbar": {
              "outlinewidth": 0,
              "ticks": ""
             }
            },
            "type": "scattergeo"
           }
          ],
          "scattergl": [
           {
            "marker": {
             "colorbar": {
              "outlinewidth": 0,
              "ticks": ""
             }
            },
            "type": "scattergl"
           }
          ],
          "scattermap": [
           {
            "marker": {
             "colorbar": {
              "outlinewidth": 0,
              "ticks": ""
             }
            },
            "type": "scattermap"
           }
          ],
          "scattermapbox": [
           {
            "marker": {
             "colorbar": {
              "outlinewidth": 0,
              "ticks": ""
             }
            },
            "type": "scattermapbox"
           }
          ],
          "scatterpolar": [
           {
            "marker": {
             "colorbar": {
              "outlinewidth": 0,
              "ticks": ""
             }
            },
            "type": "scatterpolar"
           }
          ],
          "scatterpolargl": [
           {
            "marker": {
             "colorbar": {
              "outlinewidth": 0,
              "ticks": ""
             }
            },
            "type": "scatterpolargl"
           }
          ],
          "scatterternary": [
           {
            "marker": {
             "colorbar": {
              "outlinewidth": 0,
              "ticks": ""
             }
            },
            "type": "scatterternary"
           }
          ],
          "surface": [
           {
            "colorbar": {
             "outlinewidth": 0,
             "ticks": ""
            },
            "colorscale": [
             [
              0,
              "#0d0887"
             ],
             [
              0.1111111111111111,
              "#46039f"
             ],
             [
              0.2222222222222222,
              "#7201a8"
             ],
             [
              0.3333333333333333,
              "#9c179e"
             ],
             [
              0.4444444444444444,
              "#bd3786"
             ],
             [
              0.5555555555555556,
              "#d8576b"
             ],
             [
              0.6666666666666666,
              "#ed7953"
             ],
             [
              0.7777777777777778,
              "#fb9f3a"
             ],
             [
              0.8888888888888888,
              "#fdca26"
             ],
             [
              1,
              "#f0f921"
             ]
            ],
            "type": "surface"
           }
          ],
          "table": [
           {
            "cells": {
             "fill": {
              "color": "#EBF0F8"
             },
             "line": {
              "color": "white"
             }
            },
            "header": {
             "fill": {
              "color": "#C8D4E3"
             },
             "line": {
              "color": "white"
             }
            },
            "type": "table"
           }
          ]
         },
         "layout": {
          "annotationdefaults": {
           "arrowcolor": "#2a3f5f",
           "arrowhead": 0,
           "arrowwidth": 1
          },
          "autotypenumbers": "strict",
          "coloraxis": {
           "colorbar": {
            "outlinewidth": 0,
            "ticks": ""
           }
          },
          "colorscale": {
           "diverging": [
            [
             0,
             "#8e0152"
            ],
            [
             0.1,
             "#c51b7d"
            ],
            [
             0.2,
             "#de77ae"
            ],
            [
             0.3,
             "#f1b6da"
            ],
            [
             0.4,
             "#fde0ef"
            ],
            [
             0.5,
             "#f7f7f7"
            ],
            [
             0.6,
             "#e6f5d0"
            ],
            [
             0.7,
             "#b8e186"
            ],
            [
             0.8,
             "#7fbc41"
            ],
            [
             0.9,
             "#4d9221"
            ],
            [
             1,
             "#276419"
            ]
           ],
           "sequential": [
            [
             0,
             "#0d0887"
            ],
            [
             0.1111111111111111,
             "#46039f"
            ],
            [
             0.2222222222222222,
             "#7201a8"
            ],
            [
             0.3333333333333333,
             "#9c179e"
            ],
            [
             0.4444444444444444,
             "#bd3786"
            ],
            [
             0.5555555555555556,
             "#d8576b"
            ],
            [
             0.6666666666666666,
             "#ed7953"
            ],
            [
             0.7777777777777778,
             "#fb9f3a"
            ],
            [
             0.8888888888888888,
             "#fdca26"
            ],
            [
             1,
             "#f0f921"
            ]
           ],
           "sequentialminus": [
            [
             0,
             "#0d0887"
            ],
            [
             0.1111111111111111,
             "#46039f"
            ],
            [
             0.2222222222222222,
             "#7201a8"
            ],
            [
             0.3333333333333333,
             "#9c179e"
            ],
            [
             0.4444444444444444,
             "#bd3786"
            ],
            [
             0.5555555555555556,
             "#d8576b"
            ],
            [
             0.6666666666666666,
             "#ed7953"
            ],
            [
             0.7777777777777778,
             "#fb9f3a"
            ],
            [
             0.8888888888888888,
             "#fdca26"
            ],
            [
             1,
             "#f0f921"
            ]
           ]
          },
          "colorway": [
           "#636efa",
           "#EF553B",
           "#00cc96",
           "#ab63fa",
           "#FFA15A",
           "#19d3f3",
           "#FF6692",
           "#B6E880",
           "#FF97FF",
           "#FECB52"
          ],
          "font": {
           "color": "#2a3f5f"
          },
          "geo": {
           "bgcolor": "white",
           "lakecolor": "white",
           "landcolor": "white",
           "showlakes": true,
           "showland": true,
           "subunitcolor": "#C8D4E3"
          },
          "hoverlabel": {
           "align": "left"
          },
          "hovermode": "closest",
          "mapbox": {
           "style": "light"
          },
          "paper_bgcolor": "white",
          "plot_bgcolor": "white",
          "polar": {
           "angularaxis": {
            "gridcolor": "#EBF0F8",
            "linecolor": "#EBF0F8",
            "ticks": ""
           },
           "bgcolor": "white",
           "radialaxis": {
            "gridcolor": "#EBF0F8",
            "linecolor": "#EBF0F8",
            "ticks": ""
           }
          },
          "scene": {
           "xaxis": {
            "backgroundcolor": "white",
            "gridcolor": "#DFE8F3",
            "gridwidth": 2,
            "linecolor": "#EBF0F8",
            "showbackground": true,
            "ticks": "",
            "zerolinecolor": "#EBF0F8"
           },
           "yaxis": {
            "backgroundcolor": "white",
            "gridcolor": "#DFE8F3",
            "gridwidth": 2,
            "linecolor": "#EBF0F8",
            "showbackground": true,
            "ticks": "",
            "zerolinecolor": "#EBF0F8"
           },
           "zaxis": {
            "backgroundcolor": "white",
            "gridcolor": "#DFE8F3",
            "gridwidth": 2,
            "linecolor": "#EBF0F8",
            "showbackground": true,
            "ticks": "",
            "zerolinecolor": "#EBF0F8"
           }
          },
          "shapedefaults": {
           "line": {
            "color": "#2a3f5f"
           }
          },
          "ternary": {
           "aaxis": {
            "gridcolor": "#DFE8F3",
            "linecolor": "#A2B1C6",
            "ticks": ""
           },
           "baxis": {
            "gridcolor": "#DFE8F3",
            "linecolor": "#A2B1C6",
            "ticks": ""
           },
           "bgcolor": "white",
           "caxis": {
            "gridcolor": "#DFE8F3",
            "linecolor": "#A2B1C6",
            "ticks": ""
           }
          },
          "title": {
           "x": 0.05
          },
          "xaxis": {
           "automargin": true,
           "gridcolor": "#EBF0F8",
           "linecolor": "#EBF0F8",
           "ticks": "",
           "title": {
            "standoff": 15
           },
           "zerolinecolor": "#EBF0F8",
           "zerolinewidth": 2
          },
          "yaxis": {
           "automargin": true,
           "gridcolor": "#EBF0F8",
           "linecolor": "#EBF0F8",
           "ticks": "",
           "title": {
            "standoff": 15
           },
           "zerolinecolor": "#EBF0F8",
           "zerolinewidth": 2
          }
         }
        },
        "title": {
         "text": "Distribución de Llamadas por Mes"
        },
        "xaxis": {
         "anchor": "y",
         "domain": [
          0,
          1
         ],
         "title": {
          "text": "Mes"
         }
        },
        "yaxis": {
         "anchor": "x",
         "domain": [
          0,
          1
         ],
         "title": {
          "text": "Número de Llamadas"
         }
        }
       }
      }
     },
     "metadata": {},
     "output_type": "display_data"
    },
    {
     "data": {
      "image/png": "[encoded data removed]",
      "text/plain": [
       "<Figure size 1200x800 with 2 Axes>"
      ]
     },
     "metadata": {},
     "output_type": "display_data"
    }
   ],
   "source": [
    "# Visualizaciones temporales avanzadas\n",
    "if date_cols:\n",
    "    print(\"\\n VISUALIZACIONES TEMPORALES\")\n",
    "    print(\"=\" * 35)\n",
    "    \n",
    "    # Buscar la columna de fecha procesada\n",
    "    date_col = None\n",
    "    for col, _ in date_cols:\n",
    "        if f\"{col}_parsed\" in df.columns and df[f\"{col}_parsed\"].notna().sum() > 100:\n",
    "            date_col = f\"{col}_parsed\"\n",
    "            original_col = col\n",
    "            break\n",
    "    \n",
    "    if date_col:\n",
    "        print(f\"Creando visualizaciones temporales para: {date_col}\")\n",
    "        \n",
    "        # 1. Serie temporal de llamadas por día\n",
    "        daily_calls = df.groupby(df[date_col].dt.date).size()\n",
    "        \n",
    "        plt.figure(figsize=(15, 6))\n",
    "        daily_calls.plot(kind='line', color='steelblue', linewidth=2)\n",
    "        plt.title('Volumen de Llamadas por Día', fontsize=16, fontweight='bold')\n",
    "        plt.xlabel('Fecha', fontsize=12)\n",
    "        plt.ylabel('Número de Llamadas', fontsize=12)\n",
    "        plt.grid(True, alpha=0.3)\n",
    "        plt.xticks(rotation=45)\n",
    "        \n",
    "        # Agregar línea de tendencia\n",
    "        z = np.polyfit(range(len(daily_calls)), daily_calls.values, 1)\n",
    "        p = np.poly1d(z)\n",
    "        plt.plot(daily_calls.index, p(range(len(daily_calls))), \"r--\", alpha=0.8, label='Tendencia')\n",
    "        plt.legend()\n",
    "        \n",
    "        plt.tight_layout()\n",
    "        plt.show()\n",
    "        \n",
    "        # 2. Distribución por mes usando plotly\n",
    "        monthly_data = df[f\"{original_col}_month\"].value_counts().sort_index()\n",
    "        month_names = [pd.to_datetime(f\"2023-{m:02d}-01\").strftime('%B') for m in monthly_data.index]\n",
    "        \n",
    "        fig = px.bar(\n",
    "            x=month_names,\n",
    "            y=monthly_data.values,\n",
    "            title='Distribución de Llamadas por Mes',\n",
    "            labels={'x': 'Mes', 'y': 'Número de Llamadas'},\n",
    "            color=monthly_data.values,\n",
    "            color_continuous_scale='viridis'\n",
    "        )\n",
    "        \n",
    "        fig.update_layout(\n",
    "            height=500,\n",
    "            showlegend=False,\n",
    "            xaxis_title=\"Mes\",\n",
    "            yaxis_title=\"Número de Llamadas\"\n",
    "        )\n",
    "        \n",
    "        fig.show()\n",
    "        \n",
    "        # 3. Heatmap por día de la semana y mes\n",
    "        if f\"{original_col}_weekday\" in df.columns:\n",
    "            # Crear tabla pivote\n",
    "            heatmap_data = df.groupby([f\"{original_col}_month\", f\"{original_col}_weekday\"]).size().unstack(fill_value=0)\n",
    "            \n",
    "            # Reordenar días de la semana\n",
    "            weekday_order = ['Monday', 'Tuesday', 'Wednesday', 'Thursday', 'Friday', 'Saturday', 'Sunday']\n",
    "            heatmap_data = heatmap_data.reindex(columns=[day for day in weekday_order if day in heatmap_data.columns])\n",
    "            \n",
    "            plt.figure(figsize=(12, 8))\n",
    "            sns.heatmap(\n",
    "                heatmap_data,\n",
    "                annot=True,\n",
    "                fmt='d',\n",
    "                cmap='YlOrRd',\n",
    "                cbar_kws={'label': 'Número de Llamadas'}\n",
    "            )\n",
    "            plt.title('Heatmap: Llamadas por Mes y Día de la Semana', fontsize=14, fontweight='bold')\n",
    "            plt.xlabel('Día de la Semana', fontsize=12)\n",
    "            plt.ylabel('Mes', fontsize=12)\n",
    "            plt.tight_layout()\n",
    "            plt.show()\n",
    "    else:\n",
    "        print(\"⚠️ No se pudo crear visualizaciones temporales (no hay fechas válidas procesadas)\")\n",
    "else:\n",
    "    print(\"⚠️ No hay campos de fecha para crear visualizaciones temporales\")"
   ]
  },
  {
   "cell_type": "markdown",
   "id": "438ebdf8",
   "metadata": {},
   "source": [
    "---\n",
    "\n",
    "## 8.  Resumen y Conclusiones Iniciales\n",
    "\n",
    "### Hallazgos Principales del Análisis Exploratorio"
   ]
  },
  {
   "cell_type": "code",
   "execution_count": null,
   "id": "c07c0294",
   "metadata": {},
   "outputs": [
    {
     "name": "stdout",
     "output_type": "stream",
     "text": [
      " RESUMEN EJECUTIVO DEL ANÁLISIS EXPLORATORIO\n",
      "=======================================================\n",
      "\n",
      " DIMENSIONES DEL DATASET:\n",
      "   • Total de registros: 444,448\n",
      "   • Total de columnas: 24\n",
      "   • Memoria utilizada: 337.28 MB\n",
      "   • Período analizado: Año 1999 (Call Center Anonymous Bank)\n",
      "\n",
      " CALIDAD DE DATOS:\n",
      "   • Completitud: 100.00%\n",
      "   • Valores faltantes: 0 de 10,666,752 celdas\n",
      "   • Estado:  Excelente calidad de datos\n",
      "\n",
      " TIPOS DE VARIABLES:\n",
      "   • Variables numéricas: 6\n",
      "   • Variables categóricas: 12\n",
      "   • Variables temporales: 1\n",
      "\n",
      " CAMPOS DE CALL CENTER IDENTIFICADOS:\n",
      "   • outcome: Resultado de la llamada (3 valores únicos)\n",
      "   • type: Tipo de servicio (8 valores únicos)\n",
      "   • priority: Prioridad del cliente (3 valores únicos)\n",
      "   • server: Agente que atendió (53 valores únicos)\n",
      "   • customer_id: ID del cliente (12,910 valores únicos)\n",
      "   • call_id: ID de la llamada (54,471 valores únicos)\n",
      "\n",
      " COBERTURA TEMPORAL:\n",
      "   • Fecha inicio: 1999-01-01\n",
      "   • Fecha fin: 1999-12-31\n",
      "   • Duración: 364 días\n",
      "   • Promedio de llamadas/día: 1221\n",
      "\n",
      "\n",
      " PRÓXIMOS PASOS RECOMENDADOS:\n",
      "   1.  Limpieza y preparación de datos\n",
      "   2.  Análisis detallado de patrones temporales\n",
      "   3. ⏱️ Análisis de tiempos de servicio y eficiencia\n",
      "   4.  Análisis de comportamiento de clientes\n",
      "   5.  Desarrollo de KPIs operacionales\n",
      "   6. 🤖 Modelado predictivo para demanda de llamadas\n",
      "   7.  Creación de dashboard interactivo\n",
      "\n",
      "=======================================================\n",
      " ANÁLISIS EXPLORATORIO INICIAL COMPLETADO\n",
      " Documentar hallazgos y proceder con análisis detallado\n",
      "=======================================================\n"
     ]
    }
   ],
   "source": [
    "# Generar resumen ejecutivo del análisis\n",
    "print(\" RESUMEN EJECUTIVO DEL ANÁLISIS EXPLORATORIO\")\n",
    "print(\"=\" * 55)\n",
    "\n",
    "# Información básica del dataset\n",
    "print(f\"\\n DIMENSIONES DEL DATASET:\")\n",
    "print(f\"   • Total de registros: {df.shape[0]:,}\")\n",
    "print(f\"   • Total de columnas: {df.shape[1]}\")\n",
    "print(f\"   • Memoria utilizada: {df.memory_usage(deep=True).sum() / 1024**2:.2f} MB\")\n",
    "print(f\"   • Período analizado: Año 1999 (Call Center Anonymous Bank)\")\n",
    "\n",
    "# Calidad de datos\n",
    "total_missing = df.isnull().sum().sum()\n",
    "total_cells = df.shape[0] * df.shape[1]\n",
    "missing_percentage = (total_missing / total_cells) * 100\n",
    "\n",
    "print(f\"\\n CALIDAD DE DATOS:\")\n",
    "print(f\"   • Completitud: {100 - missing_percentage:.2f}%\")\n",
    "print(f\"   • Valores faltantes: {total_missing:,} de {total_cells:,} celdas\")\n",
    "if missing_percentage < 1:\n",
    "    print(f\"   • Estado:  Excelente calidad de datos\")\n",
    "elif missing_percentage < 5:\n",
    "    print(f\"   • Estado:  Buena calidad de datos\")\n",
    "else:\n",
    "    print(f\"   • Estado:  Requiere limpieza de datos\")\n",
    "\n",
    "# Tipos de variables\n",
    "print(f\"\\n TIPOS DE VARIABLES:\")\n",
    "print(f\"   • Variables numéricas: {len(numeric_cols)}\")\n",
    "print(f\"   • Variables categóricas: {len(categorical_cols)}\")\n",
    "if date_cols:\n",
    "    print(f\"   • Variables temporales: {len(date_cols)}\")\n",
    "\n",
    "# Campos específicos del call center identificados\n",
    "if existing_fields:\n",
    "    print(f\"\\n CAMPOS DE CALL CENTER IDENTIFICADOS:\")\n",
    "    for field, description in existing_fields.items():\n",
    "        unique_vals = df[field].nunique()\n",
    "        print(f\"   • {field}: {description} ({unique_vals:,} valores únicos)\")\n",
    "\n",
    "# Análisis temporal (si disponible)\n",
    "if date_cols:\n",
    "    date_col = None\n",
    "    for col, _ in date_cols:\n",
    "        if f\"{col}_parsed\" in df.columns:\n",
    "            date_col = f\"{col}_parsed\"\n",
    "            break\n",
    "    \n",
    "    if date_col and df[date_col].notna().sum() > 0:\n",
    "        min_date = df[date_col].min()\n",
    "        max_date = df[date_col].max()\n",
    "        duration = max_date - min_date\n",
    "        \n",
    "        print(f\"\\n COBERTURA TEMPORAL:\")\n",
    "        print(f\"   • Fecha inicio: {min_date.strftime('%Y-%m-%d')}\")\n",
    "        print(f\"   • Fecha fin: {max_date.strftime('%Y-%m-%d')}\")\n",
    "        print(f\"   • Duración: {duration.days} días\")\n",
    "        \n",
    "        # Promedio de llamadas por día\n",
    "        avg_calls_per_day = len(df) / duration.days if duration.days > 0 else 0\n",
    "        print(f\"   • Promedio de llamadas/día: {avg_calls_per_day:.0f}\")\n",
    "\n",
    "print(f\"\\n\\n PRÓXIMOS PASOS RECOMENDADOS:\")\n",
    "print(f\"   1.Limpieza y preparación de datos\")\n",
    "print(f\"   2.Análisis detallado de patrones temporales\")\n",
    "print(f\"   3.Análisis de tiempos de servicio y eficiencia\")\n",
    "print(f\"   4.Análisis de comportamiento de clientes\")\n",
    "print(f\"   5.Desarrollo de KPIs operacionales\")\n",
    "print(f\"   6.Modelado predictivo para demanda de llamadas\")\n",
    "print(f\"   7.Creación de dashboard interactivo\")\n",
    "\n",
    "print(f\"\\n\" + \"=\" * 55)\n",
    "print(f\" ANÁLISIS EXPLORATORIO INICIAL COMPLETADO\")\n",
    "print(f\" Documentar hallazgos y proceder con análisis detallado\")\n",
    "print(f\"=\" * 55)"
   ]
  },
  {
   "cell_type": "code",
   "execution_count": null,
   "id": "0a94ce25",
   "metadata": {},
   "outputs": [
    {
     "name": "stdout",
     "output_type": "stream",
     "text": [
      "\n",
      " PREPARACIÓN PARA ANÁLISIS POSTERIOR\n",
      "=============================================\n",
      " INFORMACIÓN PARA PRÓXIMOS ANÁLISIS:\n",
      "   • Dataset cargado: 444,448 registros\n",
      "   • Campos numéricos para análisis estadístico: 6\n",
      "   • Campos categóricos para segmentación: 12\n",
      "   • Campos temporales para análisis de tendencias: 1\n",
      "\n",
      " SUFICIENTES DATOS PARA:\n",
      "   • Análisis estadístico robusto\n",
      "   • Modelado predictivo\n",
      "   • Segmentación de clientes\n",
      "   • Análisis de series temporales\n",
      "\n",
      " NOTEBOOKS RECOMENDADOS A CREAR:\n",
      "   1. 02_data_cleaning_transformation.ipynb - Limpieza y transformación\n",
      "   2. 03_exploratory_data_analysis.ipynb - EDA detallado\n",
      "   3. 04_temporal_analysis.ipynb - Análisis temporal avanzado\n",
      "   4. 05_performance_metrics.ipynb - KPIs y métricas operacionales\n",
      "   5. 06_customer_segmentation.ipynb - Segmentación de clientes\n",
      "   6. 07_predictive_modeling.ipynb - Modelos predictivos\n",
      "   7. 08_dashboard_preparation.ipynb - Preparación para dashboards\n",
      "\n",
      " SIGUIENTE PASO INMEDIATO:\n",
      "   Ejecutar notebook de limpieza y transformación de datos\n",
      "   para preparar el dataset para análisis avanzados.\n"
     ]
    }
   ],
   "source": [
    "# Preparar información para los siguientes notebooks\n",
    "print(\"\\n PREPARACIÓN PARA ANÁLISIS POSTERIOR\")\n",
    "print(\"=\" * 45)\n",
    "\n",
    "# Guardar información clave para próximos análisis\n",
    "analysis_summary = {\n",
    "    'dataset_info': {\n",
    "        'rows': df.shape[0],\n",
    "        'columns': df.shape[1],\n",
    "        'memory_mb': df.memory_usage(deep=True).sum() / 1024**2,\n",
    "        'missing_percentage': missing_percentage\n",
    "    },\n",
    "    'column_types': {\n",
    "        'numeric': numeric_cols,\n",
    "        'categorical': categorical_cols,\n",
    "        'datetime': [col for col, _ in date_cols] if date_cols else []\n",
    "    },\n",
    "    'call_center_fields': existing_fields if 'existing_fields' in locals() else {},\n",
    "    'time_fields': time_cols if 'time_cols' in locals() else []\n",
    "}\n",
    "\n",
    "# Mostrar resumen para próximos notebooks\n",
    "print(\" INFORMACIÓN PARA PRÓXIMOS ANÁLISIS:\")\n",
    "print(f\"   • Dataset cargado: {analysis_summary['dataset_info']['rows']:,} registros\")\n",
    "print(f\"   • Campos numéricos para análisis estadístico: {len(analysis_summary['column_types']['numeric'])}\")\n",
    "print(f\"   • Campos categóricos para segmentación: {len(analysis_summary['column_types']['categorical'])}\")\n",
    "print(f\"   • Campos temporales para análisis de tendencias: {len(analysis_summary['column_types']['datetime'])}\")\n",
    "\n",
    "# Verificar si hay datos suficientes para diferentes tipos de análisis\n",
    "if len(df) > 10000:\n",
    "    print(\"\\n SUFICIENTES DATOS PARA:\")\n",
    "    print(\"   • Análisis estadístico robusto\")\n",
    "    print(\"   • Modelado predictivo\")\n",
    "    print(\"   • Segmentación de clientes\")\n",
    "    print(\"   • Análisis de series temporales\")\n",
    "elif len(df) > 1000:\n",
    "    print(\"\\n DATOS MODERADOS - ADECUADOS PARA:\")\n",
    "    print(\"   • Análisis descriptivo\")\n",
    "    print(\"   • Modelado básico\")\n",
    "    print(\"   • Visualizaciones\")\n",
    "else:\n",
    "    print(\"\\n DATOS LIMITADOS - CONSIDERAR:\")\n",
    "    print(\"   • Análisis exploratorio únicamente\")\n",
    "    print(\"   • Validación de metodología\")\n",
    "\n",
    "print(\"\\n NOTEBOOKS RECOMENDADOS A CREAR:\")\n",
    "print(\"   1. 02_data_cleaning_transformation.ipynb - Limpieza y transformación\")\n",
    "print(\"   2. 03_exploratory_data_analysis.ipynb - EDA detallado\")\n",
    "print(\"   3. 04_temporal_analysis.ipynb - Análisis temporal avanzado\")\n",
    "print(\"   4. 05_performance_metrics.ipynb - KPIs y métricas operacionales\")\n",
    "print(\"   5. 06_customer_segmentation.ipynb - Segmentación de clientes\")\n",
    "print(\"   6. 07_predictive_modeling.ipynb - Modelos predictivos\")\n",
    "print(\"   7. 08_dashboard_preparation.ipynb - Preparación para dashboards\")\n",
    "\n",
    "print(\"\\n SIGUIENTE PASO INMEDIATO:\")\n",
    "print(\"   Ejecutar notebook de limpieza y transformación de datos\")\n",
    "print(\"   para preparar el dataset para análisis avanzados.\")"
   ]
  },
  {
   "cell_type": "markdown",
   "id": "3d071a25",
   "metadata": {},
   "source": [
    "---\n",
    "\n",
    "##  Conclusiones y Siguientes Pasos\n",
    "\n",
    "###  Lo que hemos logrado\n",
    "\n",
    "1. **Carga exitosa** del dataset del Call Center (año 1999)\n",
    "2. **Análisis de estructura** y calidad de datos\n",
    "3. **Identificación de campos clave** para análisis de call center\n",
    "4. **Procesamiento temporal** básico\n",
    "5. **Visualizaciones exploratorias** iniciales\n",
    "6. **Resumen ejecutivo** de hallazgos principales\n",
    "\n",
    "###  Hallazgos Clave\n",
    "\n",
    "- Dataset robusto con información detallada de llamadas\n",
    "- Calidad de datos generalmente buena\n",
    "- Campos específicos de call center identificados\n",
    "- Patrones temporales visibles para análisis posterior\n",
    "- Oportunidades claras para optimización operacional\n",
    "\n",
    "### 🚀 Próximos Pasos\n",
    "\n",
    "1. **Limpieza de Datos**: Procesamiento y preparación para análisis\n",
    "2. **Análisis Temporal Detallado**: Patrones por hora, día, semana, mes\n",
    "3. **Métricas Operacionales**: KPIs de eficiencia y calidad de servicio\n",
    "4. **Segmentación**: Análisis de tipos de clientes y servicios\n",
    "5. **Modelado Predictivo**: Forecasting de demanda y optimización\n",
    "6. **Dashboard**: Visualizaciones interactivas para stakeholders\n",
    "\n",
    "###  Valor del Proyecto\n",
    "\n",
    "Este análisis proporcionará insights accionables para:\n",
    "- **Optimizar staffing** y recursos del call center\n",
    "- **Mejorar tiempos de respuesta** y calidad de servicio\n",
    "- **Predecir demanda** y planificar capacidad\n",
    "- **Identificar oportunidades** de mejora operacional\n",
    "\n",
    "---\n",
    "\n",
    "**¡El análisis exploratorio inicial está completo! Procede con la limpieza y transformación de datos. **"
   ]
  }
 ],
 "metadata": {
  "kernelspec": {
   "display_name": "call_center_env",
   "language": "python",
   "name": "python3"
  },
  "language_info": {
   "codemirror_mode": {
    "name": "ipython",
    "version": 3
   },
   "file_extension": ".py",
   "mimetype": "text/x-python",
   "name": "python",
   "nbconvert_exporter": "python",
   "pygments_lexer": "ipython3",
   "version": "3.13.1"
  }
 },
 "nbformat": 4,
 "nbformat_minor": 5
}
